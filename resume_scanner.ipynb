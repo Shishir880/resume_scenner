{
  "nbformat": 4,
  "nbformat_minor": 0,
  "metadata": {
    "colab": {
      "provenance": []
    },
    "kernelspec": {
      "name": "python3",
      "display_name": "Python 3"
    },
    "language_info": {
      "name": "python"
    }
  },
  "cells": [
    {
      "cell_type": "code",
      "execution_count": 107,
      "metadata": {
        "id": "hygNukuIvnKQ"
      },
      "outputs": [],
      "source": [
        "# prompt: extract Zipfile using zipfile\n",
        "\n",
        "import zipfile\n",
        "\n",
        "def extract_zip(zip_filepath, extract_dir):\n",
        "  with zipfile.ZipFile(zip_filepath, 'r') as zip_ref:\n",
        "    zip_ref.extractall(extract_dir)\n",
        "\n",
        "# Example usage\n",
        "# Replace 'path/to/your/file.zip' with the actual path to your zip file\n",
        "# Replace 'path/to/extract/directory' with the directory where you want to extract the files\n",
        "extract_zip('/content/archive (3).zip', '/content')\n"
      ]
    },
    {
      "cell_type": "code",
      "source": [
        "import numpy as np\n",
        "import pandas as pd\n",
        "import seaborn as sns\n",
        "import matplotlib.pyplot as plt\n"
      ],
      "metadata": {
        "id": "Orgu7usHv9fF"
      },
      "execution_count": 108,
      "outputs": []
    },
    {
      "cell_type": "code",
      "source": [
        "df = pd.read_csv(\"/content/UpdatedResumeDataSet.csv\")\n",
        "df.sample(5)"
      ],
      "metadata": {
        "colab": {
          "base_uri": "https://localhost:8080/",
          "height": 206
        },
        "id": "Gv2xzeslwjyQ",
        "outputId": "fef892d7-8789-4667-c98b-ce959219bfbe"
      },
      "execution_count": 109,
      "outputs": [
        {
          "output_type": "execute_result",
          "data": {
            "text/plain": [
              "               Category                                             Resume\n",
              "715            Database  Technical Skills Databases: Oracle RDBMS- 10g,...\n",
              "845    DotNet Developer  TECHNICAL SKILLS â¢ Web Technologies: ASP .NE...\n",
              "517  Operations Manager  IT SKILLS â¢ Well versed with MS Office and I...\n",
              "240               Sales  Education Details \\r\\n Bachelor's   \\r\\n Bache...\n",
              "478  Automation Testing  Technical Skills Summary I have completed \"COR..."
            ],
            "text/html": [
              "\n",
              "  <div id=\"df-9f75f773-6668-4fd2-8114-8d3a2b5b2637\" class=\"colab-df-container\">\n",
              "    <div>\n",
              "<style scoped>\n",
              "    .dataframe tbody tr th:only-of-type {\n",
              "        vertical-align: middle;\n",
              "    }\n",
              "\n",
              "    .dataframe tbody tr th {\n",
              "        vertical-align: top;\n",
              "    }\n",
              "\n",
              "    .dataframe thead th {\n",
              "        text-align: right;\n",
              "    }\n",
              "</style>\n",
              "<table border=\"1\" class=\"dataframe\">\n",
              "  <thead>\n",
              "    <tr style=\"text-align: right;\">\n",
              "      <th></th>\n",
              "      <th>Category</th>\n",
              "      <th>Resume</th>\n",
              "    </tr>\n",
              "  </thead>\n",
              "  <tbody>\n",
              "    <tr>\n",
              "      <th>715</th>\n",
              "      <td>Database</td>\n",
              "      <td>Technical Skills Databases: Oracle RDBMS- 10g,...</td>\n",
              "    </tr>\n",
              "    <tr>\n",
              "      <th>845</th>\n",
              "      <td>DotNet Developer</td>\n",
              "      <td>TECHNICAL SKILLS â¢ Web Technologies: ASP .NE...</td>\n",
              "    </tr>\n",
              "    <tr>\n",
              "      <th>517</th>\n",
              "      <td>Operations Manager</td>\n",
              "      <td>IT SKILLS â¢ Well versed with MS Office and I...</td>\n",
              "    </tr>\n",
              "    <tr>\n",
              "      <th>240</th>\n",
              "      <td>Sales</td>\n",
              "      <td>Education Details \\r\\n Bachelor's   \\r\\n Bache...</td>\n",
              "    </tr>\n",
              "    <tr>\n",
              "      <th>478</th>\n",
              "      <td>Automation Testing</td>\n",
              "      <td>Technical Skills Summary I have completed \"COR...</td>\n",
              "    </tr>\n",
              "  </tbody>\n",
              "</table>\n",
              "</div>\n",
              "    <div class=\"colab-df-buttons\">\n",
              "\n",
              "  <div class=\"colab-df-container\">\n",
              "    <button class=\"colab-df-convert\" onclick=\"convertToInteractive('df-9f75f773-6668-4fd2-8114-8d3a2b5b2637')\"\n",
              "            title=\"Convert this dataframe to an interactive table.\"\n",
              "            style=\"display:none;\">\n",
              "\n",
              "  <svg xmlns=\"http://www.w3.org/2000/svg\" height=\"24px\" viewBox=\"0 -960 960 960\">\n",
              "    <path d=\"M120-120v-720h720v720H120Zm60-500h600v-160H180v160Zm220 220h160v-160H400v160Zm0 220h160v-160H400v160ZM180-400h160v-160H180v160Zm440 0h160v-160H620v160ZM180-180h160v-160H180v160Zm440 0h160v-160H620v160Z\"/>\n",
              "  </svg>\n",
              "    </button>\n",
              "\n",
              "  <style>\n",
              "    .colab-df-container {\n",
              "      display:flex;\n",
              "      gap: 12px;\n",
              "    }\n",
              "\n",
              "    .colab-df-convert {\n",
              "      background-color: #E8F0FE;\n",
              "      border: none;\n",
              "      border-radius: 50%;\n",
              "      cursor: pointer;\n",
              "      display: none;\n",
              "      fill: #1967D2;\n",
              "      height: 32px;\n",
              "      padding: 0 0 0 0;\n",
              "      width: 32px;\n",
              "    }\n",
              "\n",
              "    .colab-df-convert:hover {\n",
              "      background-color: #E2EBFA;\n",
              "      box-shadow: 0px 1px 2px rgba(60, 64, 67, 0.3), 0px 1px 3px 1px rgba(60, 64, 67, 0.15);\n",
              "      fill: #174EA6;\n",
              "    }\n",
              "\n",
              "    .colab-df-buttons div {\n",
              "      margin-bottom: 4px;\n",
              "    }\n",
              "\n",
              "    [theme=dark] .colab-df-convert {\n",
              "      background-color: #3B4455;\n",
              "      fill: #D2E3FC;\n",
              "    }\n",
              "\n",
              "    [theme=dark] .colab-df-convert:hover {\n",
              "      background-color: #434B5C;\n",
              "      box-shadow: 0px 1px 3px 1px rgba(0, 0, 0, 0.15);\n",
              "      filter: drop-shadow(0px 1px 2px rgba(0, 0, 0, 0.3));\n",
              "      fill: #FFFFFF;\n",
              "    }\n",
              "  </style>\n",
              "\n",
              "    <script>\n",
              "      const buttonEl =\n",
              "        document.querySelector('#df-9f75f773-6668-4fd2-8114-8d3a2b5b2637 button.colab-df-convert');\n",
              "      buttonEl.style.display =\n",
              "        google.colab.kernel.accessAllowed ? 'block' : 'none';\n",
              "\n",
              "      async function convertToInteractive(key) {\n",
              "        const element = document.querySelector('#df-9f75f773-6668-4fd2-8114-8d3a2b5b2637');\n",
              "        const dataTable =\n",
              "          await google.colab.kernel.invokeFunction('convertToInteractive',\n",
              "                                                    [key], {});\n",
              "        if (!dataTable) return;\n",
              "\n",
              "        const docLinkHtml = 'Like what you see? Visit the ' +\n",
              "          '<a target=\"_blank\" href=https://colab.research.google.com/notebooks/data_table.ipynb>data table notebook</a>'\n",
              "          + ' to learn more about interactive tables.';\n",
              "        element.innerHTML = '';\n",
              "        dataTable['output_type'] = 'display_data';\n",
              "        await google.colab.output.renderOutput(dataTable, element);\n",
              "        const docLink = document.createElement('div');\n",
              "        docLink.innerHTML = docLinkHtml;\n",
              "        element.appendChild(docLink);\n",
              "      }\n",
              "    </script>\n",
              "  </div>\n",
              "\n",
              "\n",
              "<div id=\"df-fc689530-6a1c-4f5d-a65b-2447b0d61e0b\">\n",
              "  <button class=\"colab-df-quickchart\" onclick=\"quickchart('df-fc689530-6a1c-4f5d-a65b-2447b0d61e0b')\"\n",
              "            title=\"Suggest charts\"\n",
              "            style=\"display:none;\">\n",
              "\n",
              "<svg xmlns=\"http://www.w3.org/2000/svg\" height=\"24px\"viewBox=\"0 0 24 24\"\n",
              "     width=\"24px\">\n",
              "    <g>\n",
              "        <path d=\"M19 3H5c-1.1 0-2 .9-2 2v14c0 1.1.9 2 2 2h14c1.1 0 2-.9 2-2V5c0-1.1-.9-2-2-2zM9 17H7v-7h2v7zm4 0h-2V7h2v10zm4 0h-2v-4h2v4z\"/>\n",
              "    </g>\n",
              "</svg>\n",
              "  </button>\n",
              "\n",
              "<style>\n",
              "  .colab-df-quickchart {\n",
              "      --bg-color: #E8F0FE;\n",
              "      --fill-color: #1967D2;\n",
              "      --hover-bg-color: #E2EBFA;\n",
              "      --hover-fill-color: #174EA6;\n",
              "      --disabled-fill-color: #AAA;\n",
              "      --disabled-bg-color: #DDD;\n",
              "  }\n",
              "\n",
              "  [theme=dark] .colab-df-quickchart {\n",
              "      --bg-color: #3B4455;\n",
              "      --fill-color: #D2E3FC;\n",
              "      --hover-bg-color: #434B5C;\n",
              "      --hover-fill-color: #FFFFFF;\n",
              "      --disabled-bg-color: #3B4455;\n",
              "      --disabled-fill-color: #666;\n",
              "  }\n",
              "\n",
              "  .colab-df-quickchart {\n",
              "    background-color: var(--bg-color);\n",
              "    border: none;\n",
              "    border-radius: 50%;\n",
              "    cursor: pointer;\n",
              "    display: none;\n",
              "    fill: var(--fill-color);\n",
              "    height: 32px;\n",
              "    padding: 0;\n",
              "    width: 32px;\n",
              "  }\n",
              "\n",
              "  .colab-df-quickchart:hover {\n",
              "    background-color: var(--hover-bg-color);\n",
              "    box-shadow: 0 1px 2px rgba(60, 64, 67, 0.3), 0 1px 3px 1px rgba(60, 64, 67, 0.15);\n",
              "    fill: var(--button-hover-fill-color);\n",
              "  }\n",
              "\n",
              "  .colab-df-quickchart-complete:disabled,\n",
              "  .colab-df-quickchart-complete:disabled:hover {\n",
              "    background-color: var(--disabled-bg-color);\n",
              "    fill: var(--disabled-fill-color);\n",
              "    box-shadow: none;\n",
              "  }\n",
              "\n",
              "  .colab-df-spinner {\n",
              "    border: 2px solid var(--fill-color);\n",
              "    border-color: transparent;\n",
              "    border-bottom-color: var(--fill-color);\n",
              "    animation:\n",
              "      spin 1s steps(1) infinite;\n",
              "  }\n",
              "\n",
              "  @keyframes spin {\n",
              "    0% {\n",
              "      border-color: transparent;\n",
              "      border-bottom-color: var(--fill-color);\n",
              "      border-left-color: var(--fill-color);\n",
              "    }\n",
              "    20% {\n",
              "      border-color: transparent;\n",
              "      border-left-color: var(--fill-color);\n",
              "      border-top-color: var(--fill-color);\n",
              "    }\n",
              "    30% {\n",
              "      border-color: transparent;\n",
              "      border-left-color: var(--fill-color);\n",
              "      border-top-color: var(--fill-color);\n",
              "      border-right-color: var(--fill-color);\n",
              "    }\n",
              "    40% {\n",
              "      border-color: transparent;\n",
              "      border-right-color: var(--fill-color);\n",
              "      border-top-color: var(--fill-color);\n",
              "    }\n",
              "    60% {\n",
              "      border-color: transparent;\n",
              "      border-right-color: var(--fill-color);\n",
              "    }\n",
              "    80% {\n",
              "      border-color: transparent;\n",
              "      border-right-color: var(--fill-color);\n",
              "      border-bottom-color: var(--fill-color);\n",
              "    }\n",
              "    90% {\n",
              "      border-color: transparent;\n",
              "      border-bottom-color: var(--fill-color);\n",
              "    }\n",
              "  }\n",
              "</style>\n",
              "\n",
              "  <script>\n",
              "    async function quickchart(key) {\n",
              "      const quickchartButtonEl =\n",
              "        document.querySelector('#' + key + ' button');\n",
              "      quickchartButtonEl.disabled = true;  // To prevent multiple clicks.\n",
              "      quickchartButtonEl.classList.add('colab-df-spinner');\n",
              "      try {\n",
              "        const charts = await google.colab.kernel.invokeFunction(\n",
              "            'suggestCharts', [key], {});\n",
              "      } catch (error) {\n",
              "        console.error('Error during call to suggestCharts:', error);\n",
              "      }\n",
              "      quickchartButtonEl.classList.remove('colab-df-spinner');\n",
              "      quickchartButtonEl.classList.add('colab-df-quickchart-complete');\n",
              "    }\n",
              "    (() => {\n",
              "      let quickchartButtonEl =\n",
              "        document.querySelector('#df-fc689530-6a1c-4f5d-a65b-2447b0d61e0b button');\n",
              "      quickchartButtonEl.style.display =\n",
              "        google.colab.kernel.accessAllowed ? 'block' : 'none';\n",
              "    })();\n",
              "  </script>\n",
              "</div>\n",
              "\n",
              "    </div>\n",
              "  </div>\n"
            ],
            "application/vnd.google.colaboratory.intrinsic+json": {
              "type": "dataframe",
              "summary": "{\n  \"name\": \"df\",\n  \"rows\": 5,\n  \"fields\": [\n    {\n      \"column\": \"Category\",\n      \"properties\": {\n        \"dtype\": \"string\",\n        \"num_unique_values\": 5,\n        \"samples\": [\n          \"DotNet Developer\",\n          \"Automation Testing\",\n          \"Operations Manager\"\n        ],\n        \"semantic_type\": \"\",\n        \"description\": \"\"\n      }\n    },\n    {\n      \"column\": \"Resume\",\n      \"properties\": {\n        \"dtype\": \"string\",\n        \"num_unique_values\": 5,\n        \"samples\": [\n          \"TECHNICAL SKILLS \\u00e2\\u0080\\u00a2 Web Technologies: ASP .NET, HTML, CSS, Jquery. \\u00e2\\u0080\\u00a2 Languages: C, C++, C#.NET, MVC 5. \\u00e2\\u0080\\u00a2 Database: SQL SERVER 2005/2008/2016. \\u00e2\\u0080\\u00a2 Reporting Tools.: Kindo UI, Telerik functions, Crystal Report. \\u00e2\\u0080\\u00a2 Platforms: Visual Stadio 2010/2014. Education Details \\r\\nJanuary 2014 B.E  Satara, Maharashtra L.N.B.C.College of Engg Satara.\\r\\nJanuary 2011 Diploma Thergaon Pune, Maharashtra M.M.Polytechnic\\r\\nDot net developer \\r\\n\\r\\n\\r\\nSkill Details \\r\\n.NET- Exprience - 24 months\\r\\nASP- Exprience - 24 months\\r\\nC#- Exprience - 24 months\\r\\nC++- Exprience - 6 months\\r\\nCRYSTAL REPORT- Exprience - 6 months\\r\\nHtml- Exprience - Less than 1 year months\\r\\nCss- Exprience - Less than 1 year months\\r\\nEntityframewok,jquery,javascript- Exprience - Less than 1 year months\\r\\nMvc- Exprience - 6 months\\r\\nSql- Exprience - 24 monthsCompany Details \\r\\ncompany - Corecode technology\\r\\ndescription - Worked on web application using asp,c#,mvc\\r\\nas well as sql for database and also bootstrap,css,html for designing.created reports using kindo and telerik controls\\r\\ncompany - Inetsoft solution\\r\\ndescription - Created web application using asp and c# and also used sql for database.\",\n          \"Technical Skills Summary I have completed \\\"CORPORATE TRAINING in Manual and Automation Testing\\\" at Source-Code Technology, Pune. \\u00e2\\u0097\\u008f Manual and Automation Testing \\u00e2\\u009e\\u00a2 SELENIUM IDE, TestNG, SELENIUM Grid, JENKINS, Apache POI. \\u00e2\\u009e\\u00a2 Good knowledge in SDLC. \\u00e2\\u009e\\u00a2 Excellent understanding of White Box Testing and Black Box Testing. \\u00e2\\u009e\\u00a2 Good knowledge in Functional Testing, Integration Testing and System Testing. \\u00e2\\u009e\\u00a2 Good Exposure in writing Functional and Integration Scenarios. \\u00e2\\u009e\\u00a2 Good understanding of writing of test cases including test case design technique. \\u00e2\\u009e\\u00a2 Good understanding Build and release. \\u00e2\\u009e\\u00a2 Good knowledge on Ad hoc and smoke testing. \\u00e2\\u009e\\u00a2 Excellent understanding of usability, reliability and exploratory testing. \\u00e2\\u009e\\u00a2 Excellent knowledge of Globalization and Compatibility Testing. \\u00e2\\u009e\\u00a2 Excellent Understand of STLC. \\u00e2\\u009e\\u00a2 Good knowledge of regression and retesting. \\u00e2\\u009e\\u00a2 Excellent knowledge on Defect tracking and Defect Life Cycle. \\u00e2\\u009e\\u00a2 Good Knowledge on Test plan and Traceability Matrix. Internship Project Project Name: Resume Extractor Duration: 6 months Role: Manual And Automation Testing Environment: Jdbc, Servlets, Jsp, Technologies: Web based Application, MS Access2007 The project involved development of a web application. Resume extractor provides the technology to analyze mass volume of data to detect resume in data covered which company have into valuable information. This project is company site's based on recruitment process. Strengths \\u00e2\\u009e\\u00a2 Able to work in a team \\u00e2\\u009e\\u00a2 System and Operational Analysis \\u00e2\\u009e\\u00a2 Good Communication Skills \\u00e2\\u009e\\u00a2 Active learning and critical thinking \\u00e2\\u009e\\u00a2 Good interpersonal skills, willing to take challenges and more responsibilities. \\u00e2\\u009e\\u00a2 Ability to learn new technologies with minimal time period. Education Details \\r\\nJanuary 2015  BCS Computer Science  MGM's College\\r\\n MCA  Pune, Maharashtra Computer Science fromJSPM College\\r\\n HSC  Nanded, Maharashtra Maharashtra state board\\r\\n SSC  Nanded, Maharashtra Maharashtra State Board\\r\\nSoftware testing \\r\\n\\r\\nSoftware testing\\r\\nSkill Details \\r\\nAPACHE- Exprience - 6 months\\r\\nBLACK BOX- Exprience - 6 months\\r\\nBLACK BOX TESTING- Exprience - 6 months\\r\\nFUNCTIONAL TESTING- Exprience - 6 months\\r\\nINTEGRATION- Exprience - 6 monthsCompany Details \\r\\ncompany - Tech Mahindra\\r\\ndescription - Software testing in manual and Automation\\r\\ncompany - \\r\\ndescription - software Test engineer\",\n          \"IT SKILLS \\u00e2\\u0080\\u00a2 Well versed with MS Office and Internet Applications and various ERP systems implemented in the company ie.SAGE, Flotilla, LM ERP, Tally 9, WMS, Exceed 4000 etc PERSONAL DOSSIER Permanent Address: Bandra West, Mumbai 400 050Education Details \\r\\n B.Com commerce Mumbai, Maharashtra Bombay University\\r\\n   Mumbai, Maharashtra St. Andrews College\\r\\n DIM Business Management  IGNOU\\r\\nOperations Manager \\r\\n\\r\\nOperations Manager - Landmark Insurance Brokers Pvt Ltd\\r\\nSkill Details \\r\\nEMPLOYEE RESOURCE GROUP- Exprience - 6 months\\r\\nENTERPRISE RESOURCE PLANNING- Exprience - 6 months\\r\\nERP- Exprience - 6 months\\r\\nMS OFFICE- Exprience - 6 months\\r\\nTally- Exprience - 6 monthsCompany Details \\r\\ncompany - Landmark Insurance Brokers Pvt Ltd\\r\\ndescription - Jan 2019 till Date\\r\\nAbout the Company\\r\\nOne of India Largest Insurance Brokerage firms with offices across 24 states PAN India and a part of the LandmarkGroup with an annual turnover of 2200 cr\\r\\n\\r\\nPosition: Operations Manager\\r\\nLeading and overseeing a team of 12 people to ensure that the correct work processes and TAT are followed with regards to complete insurance handling from cheque submission right upto policy issuance and support to all offices PAN India for Motor and Health Insurance.\\r\\n \\u00e2\\u0080\\u00a2   Ensuring all the data entry of customers is correctly done by the customer service \\u00e2\\u0080\\u00a2   Underwriting of documents and verification ( Health & Motor) \\u00e2\\u0080\\u00a2   Costings of Insurance products \\u00e2\\u0080\\u00a2   Followups with Insurance companies \\u00e2\\u0080\\u00a2   Customer complain handling and solutions \\u00e2\\u0080\\u00a2   MIS reporting \\u00e2\\u0080\\u00a2   Ensuring the team is working in line with the operations SOP \\u00e2\\u0080\\u00a2   Conducting weekly briefing with the team \\u00e2\\u0080\\u00a2   Liasing with all PAN India offices for all operational support \\u00e2\\u0080\\u00a2   Handling daily cash transactions \\u00e2\\u0080\\u00a2   Reporting to the Vice President Operations\\r\\ncompany - Trippereri Travels & Tours\\r\\ndescription - Jan 2017 to Mar 2018\\r\\nAbout the Company\\r\\nA Startup Travel Agency company organising local and international Tours.\\r\\n\\r\\nOperations: Looked after overall Operations and Administrative / Sales functions\\r\\ncompany - Vish Hotel Supplies Pvt Ltd\\r\\ndescription - Jan 2015 Nov 2016\\r\\n\\r\\nAbout the Company\\r\\nA distributor of hotel supplies to 5 star International hotels Groups in India for hotel amenities from a international supplier to more than 50 hotels all across India\\r\\n\\r\\nPosition: Operations Manager (Supply Chain Logistics)\\r\\nComplete Incharge of running the business from Shipping, Imports, warehousing right upto Distribution and overseeing all operational related activities for the company \\r\\n\\u00e2\\u0080\\u00a2 Overlooking and managing all aspects of the business and implementing procedures for successful shipping / inventory management at the warehouse / delivery of material all India plus exports \\u00e2\\u0080\\u00a2 Overseeing all vendor negotiations in addition to the customs warehouse and cha \\u00e2\\u0080\\u00a2 Negotiating with Freight forwarders for best freight rates and quickest delivery times \\u00e2\\u0080\\u00a2 Overseeing the clearance of import shipments and export shipments and liasing with freight forwarders \\u00e2\\u0080\\u00a2 Ensuring that all government and tax compliances are adhered to by the company.\\r\\n\\u00e2\\u0080\\u00a2 Ensuring that all benefits of government rebates and duty schemes are received and availed by the customer and company as per the EXIM license held \\u00e2\\u0080\\u00a2 Overseeing that all customers are satisfied with the overall supplies and services of the company \\u00e2\\u0080\\u00a2 Ensuring that all obstacles faced in the supply chain management is smoothened out for hassel free delivery to the customers across India \\u00e2\\u0080\\u00a2 Overseeing account paybles and receivables \\u00e2\\u0080\\u00a2 Overseeing that all stock are maintained in the warehouses and accounting books as per implemented procedures \\u00e2\\u0080\\u00a2 Sourcing out new vendors with high quality manufacturing capabilities for new product manufacture \\u00e2\\u0080\\u00a2 Visiting customers to survey customer satisfaction and address any shortfalls \\u00e2\\u0080\\u00a2 HR function like recruitment, interviewing & finalizing candidates for the company\\r\\ncompany - GEA Ecoflex Middle East FZE\\r\\ndescription - About the Company\\r\\nGEA Ecoflex part of the GEA Group Germany is one of the largest suppliers of process technology and components for the food and energy industries. As an international technology group, the Company focuses on sophisticated production processes.\\r\\nGEA generates revenues in excess of EUR 5.7 billion annually\\r\\n\\r\\nKEY DELIVERABLES\\r\\nFreight Management: Acquire, develop and enhance relationships for economical & faster modes of freight forwarding for various requirements of the company. Developing pricing strategies with an with an eye towards maximizing company's profits by reducing its freight costs by negotiating the pricing for each individual sectors with freight forwarders/shipping carrier and ensuring timely delivery of goods to the respective destinations.\\r\\n\\r\\nManage and negotiate the import freight charges with various freight forwarders and Air Lines for Bulk Air shipments moving from Americas, Europe, Dubai, India, China & Other GCC Countries.\\r\\nIdentify possible snag & loopholes for all consignments moving in and out, which may be late for the required deadline and find alternate solutions for meeting the commitment.\\r\\n\\r\\nLogistics Management: Managing the logistic functions; negotiating with transporters for cost effective transport solutions.\\r\\nCoordinating with Custom House Agents for ensuring timely clearances and effective transport solutions at reasonable costs.\\r\\nInterfacing with airlines & shipping lines for transport & conducting negotiations for finalizing freight rates to optimize transportation costs & ensure damage free transit. Monitoring and analyzing the loss in transit and undertaking measures to control the same. Co-ordinated the schedule / mobilization of After sales team to various GCC/ On-shore / Off shore /European sites.\\r\\nMaterials / Inventory Management: Handling the inventory function so as to curtail inventory holding expenses. Ensuring the specifications of materials, establishing quality & quantity for effective inventory control and reducing wastages.\\r\\nManaging the disposal of obsolete and retired inventory.\\r\\n\\r\\nWarehousing & Distributions: Planning and maintaining efficient warehouse operations. Monitoring receipt, inspection, storage, and distribution of stock. Resolving all problems affecting the stores service including staff punctuality, day-off, vacation plan, etc. Overseeing that all paper work is processed in a timely manner. Following up on discrepancies, damage/expired goods and claims & returns back.\\r\\n\\r\\nPurchase / Procurement: Providing support for developing and implementing key procurement strategies for commodities and ensuring that plans are aligned with all contractual & statutory requirements while ensuring project schedule. Identifying new potential vendors for strategic sourcing; ensuring purchase schedules against the purchase plan for timely procurement of all items to ensure smooth manufacturing.\\r\\n\\r\\nVendor / Supplier Development: Providing support for identifying and negotiating with vendors for procuring essential materials at reasonable price, developing vendors for better price, quality, delivery & increased volumes and identifying alternate vendors. Developing long-term partnerships with local & foreign suppliers; acquiring techno-commercial offers from various vendors. Handled Supplier Pre-Qualification and Vendor Registrations\\r\\n\\r\\nSIGNIFICANT CONTRIBUTIONS \\r\\n\\u00e2\\u0080\\u00a2   Successfully managed the overall Operations including: o   Receiving stock, Order Dispatch, Warehouse Management & Special Processes.\\r\\no   Inventory Control and Global Purchase.\\r\\no   Facility in compliance with ISO 9001 -2008 standards.\\r\\no   Coordinating and follow up with various factories in Europe, US, Asia for timely delivery of materials o   Carrying out receiving, picking, packing, and shipping average of 45 orders monthly.\\r\\no   Maintaining and handling AED 15 million inventories stored at three external warehouses.\\r\\n\\u00e2\\u0080\\u00a2   Holds the credit of serving clients in Power, Marine Oil and Construction industries including SABIC, KSA.\\r\\n\\u00e2\\u0080\\u00a2   Played a key role in streamlining inventory identification and tracking system.\\r\\n\\u00e2\\u0080\\u00a2   Pivotal in introducing systematic analysis of daily discrepancy reports.\\r\\n\\u00e2\\u0080\\u00a2   Generated reports on Standardized receiving, stocking, checking, and housekeeping procedures.\\r\\n\\u00e2\\u0080\\u00a2   Abridged a decrease in inventory discrepancies by developing tracking system.\\r\\n\\u00e2\\u0080\\u00a2   Successful in meeting 24-hour turnaround goal for most of shipments.\\r\\ncompany - Kuehne + Nagel LLC\\r\\ndescription - About the Company\\r\\n\\r\\nA worldwide leader in Logistics .The company activities are in the global seafreight, airfreight, overland and contract logistics businesses.\\r\\n \\u00e2\\u0080\\u00a2   Successfully managed a team of 3 Executives and reported to General Manager.\\r\\n\\u00e2\\u0080\\u00a2   Handling the top Key accounts of the company \\u00e2\\u0080\\u00a2   Successful handling of the entire export Coordination, Documentation.\\r\\n\\u00e2\\u0080\\u00a2   Played a pivotal role in supervising receiving, inventory control, storage, distribution, traffic, etc.\\r\\n\\u00e2\\u0080\\u00a2   Responsible for maintaining scheduled drivers, negotiated rates and routes with truck lines/carriers.\\r\\n\\u00e2\\u0080\\u00a2   Essayed a key role in handling product distribution, security, and receivables for clients like United nations and Johnson & Johnson.\\r\\n\\u00e2\\u0080\\u00a2   Handled Hotel logistics, inventory and distribution across the middle east for Marriot and Hilton Group \\u00e2\\u0080\\u00a2   Managed and monitored the smooth movements of all consignments moving as direct imports, exports or as transshipment consignments from the Far East/ Middle East/ Amman or Egypt and its other branches to its respective destinations & also as transshipment into USA by Air, Land and Sea.\\r\\n\\u00e2\\u0080\\u00a2   Supervised the Entire Customs Clearance for all consignments at various exit/entry points for all the direct imports, exports or transshipment consignments \\u00e2\\u0080\\u00a2   Billing each Account as per the job completed \\u00e2\\u0080\\u00a2   Keeping track of Revenue of each client on a monthly basis \\u00e2\\u0080\\u00a2   Regular customer visits to ensure smooth operations and address any grievances.\\r\\ncompany - DHL Express\\r\\ndescription - About the Company\\r\\n\\r\\nA worldwide leader in Air Express Courrier wholly owned by DPWN (Deutsche Post World Net) \\r\\n\\u00e2\\u0080\\u00a2   To handle shipments of Key Accountholders with DHL India \\u00e2\\u0080\\u00a2   Tracking and Tracing of shipments \\u00e2\\u0080\\u00a2   Solving problems of undelivered shipments \\u00e2\\u0080\\u00a2   Working as per the DHL standards and service procedures \\u00e2\\u0080\\u00a2   Liasing with operations and network at all DHL stations worldwide to ensure timely deliveries of   shipments \\u00e2\\u0080\\u00a2   Proactively keeping the customer informed about the status of their shipments while in transit to delivery \\u00e2\\u0080\\u00a2   Keeping track of the productivity of each team member and updating records \\u00e2\\u0080\\u00a2   Liasing with India operations for inbound freight shipments for clearance and timely deliveries \\u00e2\\u0080\\u00a2   Informing customers about the various paperworks required for sending different shipments to various countries \\u00e2\\u0080\\u00a2   Handled projects for State Bank of India for sending Interest warrants to their customers Globally. Keeping complete track of shipments status and informing SBI proactively.\\r\\ncompany - WNS Global Services\\r\\ndescription - \\r\\ncompany - Airlink International\\r\\ndescription - About the company\\r\\nAn International company with various departments and activities i.e Cargo, shipping, Ticketing\\r\\nAnd freight forwarding\\r\\n\\r\\nDesignation Held: Logistic Assistant / Operations Executive\\r\\n\\r\\nJob responsibilities: \\u00e2\\u0080\\u00a2 Handling the top accounts of the company.\\r\\n\\u00e2\\u0080\\u00a2 Answering customer queries, request and complaints \\u00e2\\u0080\\u00a2 Sending quotations \\u00e2\\u0080\\u00a2 Billing each Account as per the job completed \\u00e2\\u0080\\u00a2 Preparing export documentation.\\r\\n\\u00e2\\u0080\\u00a2 Preparing free Zone documents \\u00e2\\u0080\\u00a2 Liaising with Jebel Ali Port and Dubai / Sharjah port.\\r\\n\\u00e2\\u0080\\u00a2 Liaising with Shipping companies for export and imports.\\r\\n\\u00e2\\u0080\\u00a2 Coordinating Barge loadouts.\\r\\n\\u00e2\\u0080\\u00a2 Complete Inventory Management.\\r\\n\\u00e2\\u0080\\u00a2 Adhering to professional standards and procedure to achieve the ISO certificate.\\r\\n\\r\\nWorked on software packages Exceed 4000 and Flotilla.\\r\\ncompany - Serck Services International\\r\\ndescription - Job responsibilities \\u00e2\\u0080\\u00a2 Liaising with the Purchasing Manager in local and international purchases of technical parts, \\u00e2\\u0080\\u00a2 Involving import and export formalities.\\r\\n\\u00e2\\u0080\\u00a2 Soliciting quotes, preparing purchase orders and communicating with suppliers both local and international.\\r\\n\\u00e2\\u0080\\u00a2 Receiving and dispatching goods \\u00e2\\u0080\\u00a2 Liaising with suppliers to ensure timely supply of equipments \\u00e2\\u0080\\u00a2 Stock control and inventory.\\r\\n\\u00e2\\u0080\\u00a2 Maintenance of reorder levels and par stock.\\r\\n\\u00e2\\u0080\\u00a2 Preparing the daily operations report \\u00e2\\u0080\\u00a2 Maintaining the ISO standards, which involves efficient recording of data and systematic filing of data.\\r\\ncompany - Serck Services International\\r\\ndescription - March 2000 - April 2003\\r\\nAbout the company\\r\\nA British based multinational company, manufacturing radiators, oil coolers, heat exchangers and\\r\\nOther cooling elements for all purposes\\r\\nJoined the company as Accounts Assistant and promoted to Logistic Assistant in Aug 2001\\r\\ncompany - Serck Services International\\r\\ndescription - Job responsibilities \\u00e2\\u0080\\u00a2 Maintaining and updating the database of customers and suppliers.\\r\\n\\u00e2\\u0080\\u00a2 Handling walk in customers and after sales service calls. Preparing Job order.\\r\\n\\u00e2\\u0080\\u00a2 Providing timely information and data for the preparation of reports.\\r\\n\\u00e2\\u0080\\u00a2 Circulating information through memos and reports.\\r\\n\\u00e2\\u0080\\u00a2 Invoicing for four major departments.\\r\\n\\u00e2\\u0080\\u00a2 Banking \\u00e2\\u0080\\u00a2 Petty cashiering and preparing reports \\u00e2\\u0080\\u00a2 General office duties.\"\n        ],\n        \"semantic_type\": \"\",\n        \"description\": \"\"\n      }\n    }\n  ]\n}"
            }
          },
          "metadata": {},
          "execution_count": 109
        }
      ]
    },
    {
      "cell_type": "code",
      "source": [
        "df.head()"
      ],
      "metadata": {
        "colab": {
          "base_uri": "https://localhost:8080/",
          "height": 206
        },
        "id": "mTOD-WrO3F8_",
        "outputId": "801285fd-1b84-4fd4-bc3d-658d7759d3b2"
      },
      "execution_count": 110,
      "outputs": [
        {
          "output_type": "execute_result",
          "data": {
            "text/plain": [
              "       Category                                             Resume\n",
              "0  Data Science  Skills * Programming Languages: Python (pandas...\n",
              "1  Data Science  Education Details \\r\\nMay 2013 to May 2017 B.E...\n",
              "2  Data Science  Areas of Interest Deep Learning, Control Syste...\n",
              "3  Data Science  Skills â¢ R â¢ Python â¢ SAP HANA â¢ Table...\n",
              "4  Data Science  Education Details \\r\\n MCA   YMCAUST,  Faridab..."
            ],
            "text/html": [
              "\n",
              "  <div id=\"df-3d4c4457-55dc-4fa6-a2d2-32bc7b5182b3\" class=\"colab-df-container\">\n",
              "    <div>\n",
              "<style scoped>\n",
              "    .dataframe tbody tr th:only-of-type {\n",
              "        vertical-align: middle;\n",
              "    }\n",
              "\n",
              "    .dataframe tbody tr th {\n",
              "        vertical-align: top;\n",
              "    }\n",
              "\n",
              "    .dataframe thead th {\n",
              "        text-align: right;\n",
              "    }\n",
              "</style>\n",
              "<table border=\"1\" class=\"dataframe\">\n",
              "  <thead>\n",
              "    <tr style=\"text-align: right;\">\n",
              "      <th></th>\n",
              "      <th>Category</th>\n",
              "      <th>Resume</th>\n",
              "    </tr>\n",
              "  </thead>\n",
              "  <tbody>\n",
              "    <tr>\n",
              "      <th>0</th>\n",
              "      <td>Data Science</td>\n",
              "      <td>Skills * Programming Languages: Python (pandas...</td>\n",
              "    </tr>\n",
              "    <tr>\n",
              "      <th>1</th>\n",
              "      <td>Data Science</td>\n",
              "      <td>Education Details \\r\\nMay 2013 to May 2017 B.E...</td>\n",
              "    </tr>\n",
              "    <tr>\n",
              "      <th>2</th>\n",
              "      <td>Data Science</td>\n",
              "      <td>Areas of Interest Deep Learning, Control Syste...</td>\n",
              "    </tr>\n",
              "    <tr>\n",
              "      <th>3</th>\n",
              "      <td>Data Science</td>\n",
              "      <td>Skills â¢ R â¢ Python â¢ SAP HANA â¢ Table...</td>\n",
              "    </tr>\n",
              "    <tr>\n",
              "      <th>4</th>\n",
              "      <td>Data Science</td>\n",
              "      <td>Education Details \\r\\n MCA   YMCAUST,  Faridab...</td>\n",
              "    </tr>\n",
              "  </tbody>\n",
              "</table>\n",
              "</div>\n",
              "    <div class=\"colab-df-buttons\">\n",
              "\n",
              "  <div class=\"colab-df-container\">\n",
              "    <button class=\"colab-df-convert\" onclick=\"convertToInteractive('df-3d4c4457-55dc-4fa6-a2d2-32bc7b5182b3')\"\n",
              "            title=\"Convert this dataframe to an interactive table.\"\n",
              "            style=\"display:none;\">\n",
              "\n",
              "  <svg xmlns=\"http://www.w3.org/2000/svg\" height=\"24px\" viewBox=\"0 -960 960 960\">\n",
              "    <path d=\"M120-120v-720h720v720H120Zm60-500h600v-160H180v160Zm220 220h160v-160H400v160Zm0 220h160v-160H400v160ZM180-400h160v-160H180v160Zm440 0h160v-160H620v160ZM180-180h160v-160H180v160Zm440 0h160v-160H620v160Z\"/>\n",
              "  </svg>\n",
              "    </button>\n",
              "\n",
              "  <style>\n",
              "    .colab-df-container {\n",
              "      display:flex;\n",
              "      gap: 12px;\n",
              "    }\n",
              "\n",
              "    .colab-df-convert {\n",
              "      background-color: #E8F0FE;\n",
              "      border: none;\n",
              "      border-radius: 50%;\n",
              "      cursor: pointer;\n",
              "      display: none;\n",
              "      fill: #1967D2;\n",
              "      height: 32px;\n",
              "      padding: 0 0 0 0;\n",
              "      width: 32px;\n",
              "    }\n",
              "\n",
              "    .colab-df-convert:hover {\n",
              "      background-color: #E2EBFA;\n",
              "      box-shadow: 0px 1px 2px rgba(60, 64, 67, 0.3), 0px 1px 3px 1px rgba(60, 64, 67, 0.15);\n",
              "      fill: #174EA6;\n",
              "    }\n",
              "\n",
              "    .colab-df-buttons div {\n",
              "      margin-bottom: 4px;\n",
              "    }\n",
              "\n",
              "    [theme=dark] .colab-df-convert {\n",
              "      background-color: #3B4455;\n",
              "      fill: #D2E3FC;\n",
              "    }\n",
              "\n",
              "    [theme=dark] .colab-df-convert:hover {\n",
              "      background-color: #434B5C;\n",
              "      box-shadow: 0px 1px 3px 1px rgba(0, 0, 0, 0.15);\n",
              "      filter: drop-shadow(0px 1px 2px rgba(0, 0, 0, 0.3));\n",
              "      fill: #FFFFFF;\n",
              "    }\n",
              "  </style>\n",
              "\n",
              "    <script>\n",
              "      const buttonEl =\n",
              "        document.querySelector('#df-3d4c4457-55dc-4fa6-a2d2-32bc7b5182b3 button.colab-df-convert');\n",
              "      buttonEl.style.display =\n",
              "        google.colab.kernel.accessAllowed ? 'block' : 'none';\n",
              "\n",
              "      async function convertToInteractive(key) {\n",
              "        const element = document.querySelector('#df-3d4c4457-55dc-4fa6-a2d2-32bc7b5182b3');\n",
              "        const dataTable =\n",
              "          await google.colab.kernel.invokeFunction('convertToInteractive',\n",
              "                                                    [key], {});\n",
              "        if (!dataTable) return;\n",
              "\n",
              "        const docLinkHtml = 'Like what you see? Visit the ' +\n",
              "          '<a target=\"_blank\" href=https://colab.research.google.com/notebooks/data_table.ipynb>data table notebook</a>'\n",
              "          + ' to learn more about interactive tables.';\n",
              "        element.innerHTML = '';\n",
              "        dataTable['output_type'] = 'display_data';\n",
              "        await google.colab.output.renderOutput(dataTable, element);\n",
              "        const docLink = document.createElement('div');\n",
              "        docLink.innerHTML = docLinkHtml;\n",
              "        element.appendChild(docLink);\n",
              "      }\n",
              "    </script>\n",
              "  </div>\n",
              "\n",
              "\n",
              "<div id=\"df-0c501e29-9027-4a2c-8288-668ec099ca16\">\n",
              "  <button class=\"colab-df-quickchart\" onclick=\"quickchart('df-0c501e29-9027-4a2c-8288-668ec099ca16')\"\n",
              "            title=\"Suggest charts\"\n",
              "            style=\"display:none;\">\n",
              "\n",
              "<svg xmlns=\"http://www.w3.org/2000/svg\" height=\"24px\"viewBox=\"0 0 24 24\"\n",
              "     width=\"24px\">\n",
              "    <g>\n",
              "        <path d=\"M19 3H5c-1.1 0-2 .9-2 2v14c0 1.1.9 2 2 2h14c1.1 0 2-.9 2-2V5c0-1.1-.9-2-2-2zM9 17H7v-7h2v7zm4 0h-2V7h2v10zm4 0h-2v-4h2v4z\"/>\n",
              "    </g>\n",
              "</svg>\n",
              "  </button>\n",
              "\n",
              "<style>\n",
              "  .colab-df-quickchart {\n",
              "      --bg-color: #E8F0FE;\n",
              "      --fill-color: #1967D2;\n",
              "      --hover-bg-color: #E2EBFA;\n",
              "      --hover-fill-color: #174EA6;\n",
              "      --disabled-fill-color: #AAA;\n",
              "      --disabled-bg-color: #DDD;\n",
              "  }\n",
              "\n",
              "  [theme=dark] .colab-df-quickchart {\n",
              "      --bg-color: #3B4455;\n",
              "      --fill-color: #D2E3FC;\n",
              "      --hover-bg-color: #434B5C;\n",
              "      --hover-fill-color: #FFFFFF;\n",
              "      --disabled-bg-color: #3B4455;\n",
              "      --disabled-fill-color: #666;\n",
              "  }\n",
              "\n",
              "  .colab-df-quickchart {\n",
              "    background-color: var(--bg-color);\n",
              "    border: none;\n",
              "    border-radius: 50%;\n",
              "    cursor: pointer;\n",
              "    display: none;\n",
              "    fill: var(--fill-color);\n",
              "    height: 32px;\n",
              "    padding: 0;\n",
              "    width: 32px;\n",
              "  }\n",
              "\n",
              "  .colab-df-quickchart:hover {\n",
              "    background-color: var(--hover-bg-color);\n",
              "    box-shadow: 0 1px 2px rgba(60, 64, 67, 0.3), 0 1px 3px 1px rgba(60, 64, 67, 0.15);\n",
              "    fill: var(--button-hover-fill-color);\n",
              "  }\n",
              "\n",
              "  .colab-df-quickchart-complete:disabled,\n",
              "  .colab-df-quickchart-complete:disabled:hover {\n",
              "    background-color: var(--disabled-bg-color);\n",
              "    fill: var(--disabled-fill-color);\n",
              "    box-shadow: none;\n",
              "  }\n",
              "\n",
              "  .colab-df-spinner {\n",
              "    border: 2px solid var(--fill-color);\n",
              "    border-color: transparent;\n",
              "    border-bottom-color: var(--fill-color);\n",
              "    animation:\n",
              "      spin 1s steps(1) infinite;\n",
              "  }\n",
              "\n",
              "  @keyframes spin {\n",
              "    0% {\n",
              "      border-color: transparent;\n",
              "      border-bottom-color: var(--fill-color);\n",
              "      border-left-color: var(--fill-color);\n",
              "    }\n",
              "    20% {\n",
              "      border-color: transparent;\n",
              "      border-left-color: var(--fill-color);\n",
              "      border-top-color: var(--fill-color);\n",
              "    }\n",
              "    30% {\n",
              "      border-color: transparent;\n",
              "      border-left-color: var(--fill-color);\n",
              "      border-top-color: var(--fill-color);\n",
              "      border-right-color: var(--fill-color);\n",
              "    }\n",
              "    40% {\n",
              "      border-color: transparent;\n",
              "      border-right-color: var(--fill-color);\n",
              "      border-top-color: var(--fill-color);\n",
              "    }\n",
              "    60% {\n",
              "      border-color: transparent;\n",
              "      border-right-color: var(--fill-color);\n",
              "    }\n",
              "    80% {\n",
              "      border-color: transparent;\n",
              "      border-right-color: var(--fill-color);\n",
              "      border-bottom-color: var(--fill-color);\n",
              "    }\n",
              "    90% {\n",
              "      border-color: transparent;\n",
              "      border-bottom-color: var(--fill-color);\n",
              "    }\n",
              "  }\n",
              "</style>\n",
              "\n",
              "  <script>\n",
              "    async function quickchart(key) {\n",
              "      const quickchartButtonEl =\n",
              "        document.querySelector('#' + key + ' button');\n",
              "      quickchartButtonEl.disabled = true;  // To prevent multiple clicks.\n",
              "      quickchartButtonEl.classList.add('colab-df-spinner');\n",
              "      try {\n",
              "        const charts = await google.colab.kernel.invokeFunction(\n",
              "            'suggestCharts', [key], {});\n",
              "      } catch (error) {\n",
              "        console.error('Error during call to suggestCharts:', error);\n",
              "      }\n",
              "      quickchartButtonEl.classList.remove('colab-df-spinner');\n",
              "      quickchartButtonEl.classList.add('colab-df-quickchart-complete');\n",
              "    }\n",
              "    (() => {\n",
              "      let quickchartButtonEl =\n",
              "        document.querySelector('#df-0c501e29-9027-4a2c-8288-668ec099ca16 button');\n",
              "      quickchartButtonEl.style.display =\n",
              "        google.colab.kernel.accessAllowed ? 'block' : 'none';\n",
              "    })();\n",
              "  </script>\n",
              "</div>\n",
              "\n",
              "    </div>\n",
              "  </div>\n"
            ],
            "application/vnd.google.colaboratory.intrinsic+json": {
              "type": "dataframe",
              "variable_name": "df",
              "summary": "{\n  \"name\": \"df\",\n  \"rows\": 962,\n  \"fields\": [\n    {\n      \"column\": \"Category\",\n      \"properties\": {\n        \"dtype\": \"category\",\n        \"num_unique_values\": 25,\n        \"samples\": [\n          \"Civil Engineer\",\n          \"DevOps Engineer\",\n          \"Data Science\"\n        ],\n        \"semantic_type\": \"\",\n        \"description\": \"\"\n      }\n    },\n    {\n      \"column\": \"Resume\",\n      \"properties\": {\n        \"dtype\": \"category\",\n        \"num_unique_values\": 166,\n        \"samples\": [\n          \"KEY COMPETENCIES \\u00e2\\u009c\\u00b6Multi - Operations Management\\u00e2\\u009c\\u00b6People Management \\u00e2\\u009c\\u00b6Customer Services - Emails \\u00e2\\u009c\\u00b6 MIS \\u00e2\\u009c\\u00b6Vendor & Client Services Management\\u00e2\\u009c\\u00b6Cross Functional Coordination\\u00e2\\u009c\\u00b6Banking & Financial Services\\u00e2\\u009c\\u00b6 Transaction Monitoring * ATM Operations \\u00e2\\u009c\\u00b6 & Prepaid Card Operations (Pre-Issuance & Post-Issuance) \\u00e2\\u009c\\u00b6 POS Operations * JOB PROFILE & SKILLS: \\u00e2\\u0080\\u00a2 An effective communicator with excellent relationship building & interpersonal skills. Strong analytical, problem solving & organizational abilities. \\u00e2\\u0080\\u00a2 Extensive experience in managing operations with demonstrated leadership qualities & organisational skills during the tenure. \\u00e2\\u0080\\u00a2 Managing customer centric operations & ensuring customer satisfaction by achieving service quality norms. \\u00e2\\u0080\\u00a2 Analyzing of all operational problems, customer complaints and take preventive and corrective actions to resolve the same. \\u00e2\\u0080\\u00a2 Receive and respond to Key customer inquiries in an effective manner and provide relevant and timely information. \\u00e2\\u0080\\u00a2 Deft in steering banking back-end operations, analyzing risks and managing delinquencies with dexterity across applying techniques for maximizing recoveries and minimizing credit losses. \\u00e2\\u0080\\u00a2 Analyzed & identified training needs of the team members and developing, organizing and conducting training programs and manage bottom quartile team to improve their performance. \\u00e2\\u0080\\u00a2 Preparing and maintaining daily MIS reports to evaluate the performance and efficiency of the process relate to various verticals. \\u00e2\\u0080\\u00a2 Measuring the performance of the processes in terms of efficiency and effectiveness matrix and ensuring adherence to SLA. \\u00e2\\u0080\\u00a2 Major Activities Define processes for Field Services were monitored and necessary checks were executed and controlled. Also measured Vendor SLA by analyzing the TAT of vendors & the Client SLA provided to us. \\u00e2\\u0080\\u00a2 As per company procedures, handling & ensuring vendor's payment issues to be sorted out &payments are processed on quarterly basis. \\u00e2\\u0080\\u00a2 Appropriately plan and execute each skill of operations in accordance with the department's policies and procedures. \\u00e2\\u0080\\u00a2 Manage relationships with business team, software development team and other services to achieve project objectives. Different software Worked till now: - a. CTL prime - Axis Bank Credit Cards b. Insight - For POS Machine technical operations for Amex (MID & TID Generation- ATOS (Venture Infotek) c. Ticket Management System - TATA Communications Private Services Ltd (ATM - NOC Operations) d. Branch Portal (Yalamanchili Software Exports Ltd) - Prepaid Cards (SBI Bank & Zaggle Prepaid Oceans Services Ltd) Zaggle Prepaid Ocean Services Pvt Ltd Oct, 2017 to Till Date Designation: Manager - Operations (Payment Industry - Prepaid Cards - INR) Education Details \\r\\n  Commerce Mumbai, Maharashtra Mumbai University\\r\\nOperations Manager \\r\\n\\r\\nService Manager - Operations (Payment Industry - Prepaid Cards - INR & FTC)\\r\\nSkill Details \\r\\nOPERATIONS- Exprience - 73 months\\r\\nSATISFACTION- Exprience - 48 months\\r\\nTRAINING- Exprience - 24 months\\r\\nNOC- Exprience - 23 months\\r\\nPOINT OF SALE- Exprience - 20 monthsCompany Details \\r\\ncompany - Zaggle Prepaid Ocean Services Pvt Ltd\\r\\ndescription - Card Operations\\r\\ncompany - Yalamanchili Software Exports Ltd\\r\\ndescription - 24*7 Operations Pvt Ltd) Dec 2015 to Feb 2017\\r\\n\\r\\nDesignation: Service Manager - Operations (Payment Industry - Prepaid Cards - INR & FTC)\\r\\n\\r\\nKey Contributions: \\u00e2\\u0080\\u00a2 A result-oriented business professional in planning, executing& managing processes, improving efficiency of operations, team building and detailing process information to determine effective result into operations.\\r\\n\\u00e2\\u0080\\u00a2 Ensuring PINs generation (SLA) is maintained and chargeback cases are raised in perfect timeframe.\\r\\n\\u00e2\\u0080\\u00a2 Managing email customer services properly and ensuring the emails are replied properly. Also, ensuring transaction monitoring is properly managed 24/7.\\r\\n\\u00e2\\u0080\\u00a2 Assisting Bankers (SBI & Associated Banks) for their BCP plans by getting executed in the system with the help of DR-PR plans & vice versa or any other business requirements.\\r\\n\\u00e2\\u0080\\u00a2 Expertise in maintaining highest level of quality in operations; ensuring adherence to all the quality parameters and procedures as per the stringent norms.\\r\\n\\u00e2\\u0080\\u00a2 Lead, manage and supervise the execution of external audit engagements and responsible for presenting the findings & developing a quality reports to the senior Management and Clients.\\r\\n\\u00e2\\u0080\\u00a2 Coach/mentor (20) team members to perform at a higher level by giving opportunities, providing timely continuous feedback and working with staff to improve their communication, time management, decision making, organization, and analytical skills.\\r\\n\\u00e2\\u0080\\u00a2 Providing the solutions and services to the client in their own premises with aforesaid count of team members.\\r\\n\\u00e2\\u0080\\u00a2 Also ensuring end to end process of PR & DR as per client requirements (PR- DR & DR -PR) by interacting with internal & external stakeholders.\\r\\n\\u00e2\\u0080\\u00a2 Determining process gaps and designing & conducting training programs to enhance operational efficiency and retain talent by providing optimum opportunities for personal and professional growth.\\r\\ncompany - Credit Cards\\r\\ndescription - Ensured highest standard of customer satisfaction and quality service; developing new policies and procedures to improve based on customer feedback and resolving customer queries via correspondence, inbound calls & email channels with the strength of (12-16) Team members.\\r\\ncompany - AGS Transact Technologies Limited\\r\\ndescription - Key Contributions: Lead - SPOC to Banks\\r\\ncompany - TATA Communications Payment Solutions Ltd\\r\\ndescription - To make ATMs operational within TAT by analyzing the issue is technical or non-technical and also by interacting with internal & external stakeholders.\\r\\ncompany - Vertex Customer Solutions India Private Ltd\\r\\ndescription - Key Contributions: \\u00e2\\u0080\\u00a2 Build positive working relationship with all team members and clients by keeping Management informed   of KYC document collection & con-current audit progress, responding timely to Management inquiries, understanding the business and conducting self professionally.\\r\\ncompany - Financial Inclusion Network & Operations Limited\\r\\ndescription - Key Contributions: POS-Operations \\u00e2\\u0080\\u00a2 Cascading the adherence of process is strictly followed by team members & training them to reduce the downtime.\\r\\n\\u00e2\\u0080\\u00a2 Managing Stock of EDC Terminals \\u00e2\\u0080\\u00a2 Managing Deployments of terminals through Multiple teams \\u00e2\\u0080\\u00a2 Would have worked with multiple terminal make & model \\u00e2\\u0080\\u00a2 Managing Inward, Outward & QC of applications installed in the POS machines.\\r\\ncompany - Venture Infotek Private Ltd\\r\\ndescription - Key Contributions: POS-Operations\\r\\ncompany - Axis Bank Ltd - Customer Services\\r\\ndescription - Aug 2006 to Oct 2009 (Ma-Foi&I- smart)\\r\\n\\r\\nDesignation: Team Leader/Executive - Emails, Phone Banking & Correspondence Unit (Snail Mails)\",\n          \"Skill Set: Hadoop, Map Reduce, HDFS, Hive, Sqoop, java. Duration: 2016 to 2017. Role: Hadoop Developer Rplus offers an quick, simple and powerful cloud based Solution, Demand Sense to accurately predict demand for your product in all your markets which Combines Enterprise and External Data to predict demand more accurately through Uses Social Conversation and Sentiments to derive demand and Identifies significant drivers of sale out of hordes of factors that Selects the best suited model out of multiple forecasting models for each product. Responsibilities: \\u00e2\\u0080\\u00a2 Involved in deploying the product for customers, gathering requirements and algorithm optimization at backend of the product. \\u00e2\\u0080\\u00a2 Load and transform Large Datasets of structured semi structured. \\u00e2\\u0080\\u00a2 Responsible to manage data coming from different sources and application \\u00e2\\u0080\\u00a2 Supported Map Reduce Programs those are running on the cluster \\u00e2\\u0080\\u00a2 Involved in creating Hive tables, loading with data and writing hive queries which will run internally in map reduce way.Education Details \\r\\n\\r\\nHadoop Developer \\r\\n\\r\\nHadoop Developer - Braindatawire\\r\\nSkill Details \\r\\nAPACHE HADOOP HDFS- Exprience - 49 months\\r\\nAPACHE HADOOP SQOOP- Exprience - 49 months\\r\\nHadoop- Exprience - 49 months\\r\\nHADOOP- Exprience - 49 months\\r\\nHADOOP DISTRIBUTED FILE SYSTEM- Exprience - 49 monthsCompany Details \\r\\ncompany - Braindatawire\\r\\ndescription - Technical Skills:\\r\\n\\u00e2\\u0080\\u00a2   Programming: Core Java, Map Reduce, Scala\\r\\n\\u00e2\\u0080\\u00a2   Hadoop Tools: HDFS, Spark, Map Reduce, Sqoop, Hive, Hbase\\r\\n\\u00e2\\u0080\\u00a2   Database: MySQL, Oracle\\r\\n\\u00e2\\u0080\\u00a2   Scripting: Shell Scripting\\r\\n\\u00e2\\u0080\\u00a2   IDE: Eclipse\\r\\n\\u00e2\\u0080\\u00a2   Operating Systems: Linux (CentOS), Windows\\r\\n\\u00e2\\u0080\\u00a2   Source Control: Git (Github)\",\n          \"IT Skills: Area Exposure Modeling Tool: Bizagi, MS Visio Prototyping Tool: Indigo Studio. Documentation: MS Office (MS Word, MS Excel, MS Power Point) Testing Proficiency: Smoke, Sanity, Integration, Functional, Acceptance and UI Methodology implemented: Waterfall, Agile (Scrum) Database: SQL Testing Tool: HPQC Business Exposure Education Details \\r\\n Bachelor Of Computer Engineering Computer Engineering Mumbai, Maharashtra Thadomal Shahani Engineering college\\r\\n Diploma Computer Engineering Ulhasnagar, Maharashtra Institute of Technology\\r\\n Secondary School Certificate  Ulhasnagar, Maharashtra New English High School\\r\\nSenior Business Analyst - RPA \\r\\n\\r\\nSenior Business Analyst - RPA - Hexaware Technologies\\r\\nSkill Details \\r\\nDOCUMENTATION- Exprience - 47 months\\r\\nTESTING- Exprience - 29 months\\r\\nINTEGRATION- Exprience - 25 months\\r\\nINTEGRATOR- Exprience - 25 months\\r\\nPROTOTYPE- Exprience - 13 monthsCompany Details \\r\\ncompany - Hexaware Technologies\\r\\ndescription - Working as a RPA Business Analyst\\r\\ncompany - BBH- Brown Brothers Harriman & Co\\r\\ndescription - is a private bank that provides commercial banking, investment management, brokerage, and trust services to private companies and individuals. It also performs merger advisory, foreign exchange, custody services, commercial banking, and corporate financing services.\\r\\n\\r\\nResponsibilities: \\u00e2\\u0080\\u00a2 Performed Automation Assessment of various Processes and identified processes which can be candidates of RPA.\\r\\n\\u00e2\\u0080\\u00a2 Conducting Assessment that involves an initial Understanding of the Existing System, their technology, processes, Usage of the tools, Feasibility of tool with automation tool along with automation ROI analysis.\\r\\n\\u00e2\\u0080\\u00a2 Preparing the Automation Potential Sheet which describes the steps in the process, the volume and frequency of the transaction, the AHT taken by SME to perform the process and depending on the steps that could be automated, Automation potential and the manual efforts that will be saved are calculated.\\r\\nCalculating the complexity of the Process which is considered for automation and depending on all these factors Number of Bots and Number of Automation tool Licenses are determined.\\r\\n\\u00e2\\u0080\\u00a2 Implementing a Proof of Concept (POC) to Validate Feasibility by executing the selected critical use cases for conducting a POC which will helps to identify financial and operational benefits and provide recommendations regarding the actual need for complete automation.\\r\\n\\u00e2\\u0080\\u00a2 Gathering business requirements by conducting detailed interviews with business users, stakeholders, and Subject Matter Experts (SME's) \\u00e2\\u0080\\u00a2 Preparing Business Requirement Document and then converted Business requirements into Functional Requirements Specification.\\r\\n \\u00e2\\u0080\\u00a2 Constructing prototype early toward a design acceptable to the customer and feasible.\\r\\n\\u00e2\\u0080\\u00a2 Assisting in designing test plans, test scenarios and test cases for integration, regression, and user acceptance testing (UAT) to improve the overall quality of the Automation.\\r\\n\\u00e2\\u0080\\u00a2 Participating regularly in Walkthroughs and Review meetings with Project Manager, QA Engineers, and Development team.\\r\\n\\u00e2\\u0080\\u00a2 Regularly interacting with offshore and onshore development teams.\\r\\ncompany - FADV - First Advantage\\r\\ndescription - is a criminal background check company that delivers global solutions ranging from employment screenings to background checks.\\r\\nThe following are the processes which were covered:\\r\\nEmail Process, Research Process, Review Process.\\r\\n\\r\\nResponsibilities: \\u00e2\\u0080\\u00a2 Requirement Gathering through conducting Interviews & Brainstorming sessions with stakeholders \\u00e2\\u0080\\u00a2 To develop decision models and execute those rules as per the use case specifications.\\r\\n\\u00e2\\u0080\\u00a2 To Test/validate the decision models against document test data.\\r\\n\\u00e2\\u0080\\u00a2 To maintain and enhance the decision models for changes in regulations as per use case specifications.\\r\\n\\u00e2\\u0080\\u00a2 Responsible for performing the business research that will make a business growth.\\r\\n\\u00e2\\u0080\\u00a2 Developing a clear understanding of existing business functions and processes.\\r\\n\\u00e2\\u0080\\u00a2 Effectively communicate with the onsite clients for the queries, suggestions, and update.\\r\\n\\u00e2\\u0080\\u00a2 Giving suggestions to enhance the current processes.\\r\\n\\u00e2\\u0080\\u00a2 Identifying areas for process improvement.\\r\\n\\u00e2\\u0080\\u00a2 Flagging up potential problems at an early stage.\\r\\n\\u00e2\\u0080\\u00a2 Preparing PowerPoint presentations and documents for business meetings.\\r\\n\\u00e2\\u0080\\u00a2 Using any information gathered to write up detailed reports.\\r\\n\\u00e2\\u0080\\u00a2 Highlighting risks and issues that could impact project delivery.\\r\\n\\u00e2\\u0080\\u00a2 Able to work accurately.\\r\\n\\u00e2\\u0080\\u00a2 To develop and maintain documentation for internal team training and client end user operations.\\r\\n\\u00e2\\u0080\\u00a2 To work efficiently with team members and across teams.\\r\\n\\u00e2\\u0080\\u00a2 To mentor and train junior team members.\\r\\ncompany - Clinical Testing, Lab Work and Diagnostic Testing\\r\\ndescription - IQVIA provides services to its customers this includes: Clinical Testing, Lab Work and Diagnostic Testing under clinical trial. These customers need to pay to IQVIA and aging details and invoices are generated for the same.\\r\\nThe following are the processes which were covered:\\r\\n\\r\\nTracking Payments, Automated Real Time Metrics Reporting (Dashboard), Past Due Notifications, AR Statements, Credit/Rebill.\\r\\nResponsibilities: \\u00e2\\u0080\\u00a2 Conducting meetings with clients and key stakeholders to gather requirements, analyze, finalize and have formal sign-offs from approvers Gather and perform analysis of the business requirements \\u00e2\\u0080\\u00a2 Translating the business requirements into the Business Requirement Document [BRD], Functional Requirement Document [FRD].\\r\\n\\u00e2\\u0080\\u00a2 Facilitating meetings with the appropriate subject matter experts in both business and technology teams \\u00e2\\u0080\\u00a2 Coordinating with business user community for the execution of user acceptance test as well as tracking issues \\u00e2\\u0080\\u00a2 Working, collaborating and coordinating with Offshore and Onsite team members to fulfill the BA responsibilities from project initiation to Post-Implementation \\u00e2\\u0080\\u00a2 Reviewing the test scripts with business users as well as technology team. Execute test scripts with expected results for the System Integration Test (SIT) and User Acceptance Test (UAT) \\u00e2\\u0080\\u00a2 Coordinating and conducting the Production Acceptance Testing (PAT) with the business users \\u00e2\\u0080\\u00a2 Creating flow diagrams, structure charts, and other types of system or process representations \\u00e2\\u0080\\u00a2 Managing changes to requirements and baseline through a change control process \\u00e2\\u0080\\u00a2 Utilizing standard methods, design and testing tools throughout project development life cycle \\u00e2\\u0080\\u00a2 Work closely with the operational functional teams, operations management, and personnel, and various technology teams to facilitate a shared understanding of requirements and priorities across all areas\\r\\ncompany - Eduavenir IT Solution\\r\\ndescription - Project: M.B.M.S\\r\\n\\r\\nM.B.M.S. - is an Inventory management application that allows user to manage inventory details of different warehouses, having different products located at various locations and help extract what goods have been procured, sold or returned by customers. It generates automated invoicesalong withcustomized reports. It also managescustomer complaint and resolution system implementation along with automated MIS on monthly basis.Sales and forecastingis also developed on MIS System and the streamlining of process of warehousing and dispatch along with online proof of delivery management system (POD documentation) is generated.\\r\\n\\r\\nResponsibilities: \\u00e2\\u0080\\u00a2 Participate in requirement gathering discussion with client to understand the flow of business processes \\u00e2\\u0080\\u00a2 Analyze the requirements and determine the core processes, develop Process Documentation and ensure to stay up-to-date in conjunction with on-going changes \\u00e2\\u0080\\u00a2 Participate in process flow analysis and preparing BRD, SRS.\\r\\n\\u00e2\\u0080\\u00a2 Coordinating with developers, designers & operations teams for various nuances of the project, communicate the stakeholder requirements from requirement /enhancement to implementation and finally deliver the same within estimated timeframe.\\r\\n\\u00e2\\u0080\\u00a2 Support UAT by reviewing test cases, manage version control of documents, software builds.\\r\\n\\u00e2\\u0080\\u00a2 Coordinate with the stakeholders for UAT sign off and coordinate internally for production movement till Golive stage of the application.\\r\\n\\u00e2\\u0080\\u00a2 Provide demo and training to internal and end user using PowerPoint presentation.\\r\\n\\u00e2\\u0080\\u00a2 Resolving project functional &technical issues during UAT.\\r\\n\\u00e2\\u0080\\u00a2 Prioritizing the Production bugs and resolving the same within the estimated timeframe.\\r\\n\\u00e2\\u0080\\u00a2 Preparing Project Status Report and Production Bugs Status to all the stakeholders.\\r\\n\\u00e2\\u0080\\u00a2 Promoting and Networking for online trading platform.\\r\\n\\u00e2\\u0080\\u00a2 Designing query sheet for obtaining and comparison of quotes from various vendors.\\r\\n\\u00e2\\u0080\\u00a2 Development of product codes / material codes for inventory management (Master Data Management)\\r\\ncompany - CAPGEMINI Head Office\\r\\ndescription - Type: Mobile and Device Testing.       Duration: January 2014 - August 2014\\r\\n\\r\\nFollet - An application which takes an electronic request from the user for the books he requires from a particular follet store. This detailed information about books that will include the name of the book, its price, the date of the transaction and the parties involved which will then be sent to follet stores. User then create request for one or more books for a given date. This request is then processed further and user gets a mail of the date when he will be provided with that book.\\r\\n\\r\\nResponsibilities: \\u00e2\\u0080\\u00a2 Understanding the needs and business requirements.\\r\\n\\u00e2\\u0080\\u00a2 Preparing BRD, SRS by eliciting all the requirements from the client and SMEs \\u00e2\\u0080\\u00a2 Understanding the dependency of the modules in the system \\u00e2\\u0080\\u00a2 Preparation of test plan for Unit level and Integration level.\\r\\n\\u00e2\\u0080\\u00a2 Preparation and execution of test cases.\\r\\n\\u00e2\\u0080\\u00a2 Defect tracking, Issue Resolution, Risk Monitoring, Status Tracking, Reporting and Follow-up.\\r\\n\\u00e2\\u0080\\u00a2 Preparation of Test Completion report.\\r\\ncompany - CAPGEMINI Head Office\\r\\ndescription - \\r\\ncompany - CAPGEMINI Head Office\\r\\ndescription - Humana is a health care insurance project of U.S. which deals with supplying various medicines to citizens as per the doctor's reference and patient's insurance policy. This application keeps track of all the medicines user has consumed in the past and generates a patient history. A citizen is given a drug only after the doctor's reference so the doctor's information is also linked with the patient's history.\\r\\n\\r\\nResponsibilities: \\u00e2\\u0080\\u00a2 Understanding the requirements and getting clarifications from client.\\r\\n\\u00e2\\u0080\\u00a2 Involved in writing test cases based on test scenarios and execute them.\\r\\n\\u00e2\\u0080\\u00a2 Ensuring Test Coverage using Requirement Traceability Matrix (RTM) \\u00e2\\u0080\\u00a2 Preparation of Test Completion report.\\r\\ncompany - CAPGEMINI Head Office\\r\\ndescription - Testing Trends WQR (World Quality Report) is an application which allows the users to take a survey on different methods and technologies used for testing. Users can choose to answer any type of questions under three different categories. Users have a facility to search, view and export the data to excel. Also, users get daily and weekly reports through email about the new trends in testing implemented around the globe. Testing Trends WQR app is available on Android and IOS platforms.\\r\\n\\r\\nResponsibilities: \\u00e2\\u0080\\u00a2 Understanding the requirements and getting clarifications from client.\\r\\n\\u00e2\\u0080\\u00a2 Writing test cases based on test scenarios and executed them.\\r\\n\\u00e2\\u0080\\u00a2 Performing different types of testing such as Functional, Integration, System, and UAT.\\r\\n\\u00e2\\u0080\\u00a2 Defect resolution and maintenance of the application.\"\n        ],\n        \"semantic_type\": \"\",\n        \"description\": \"\"\n      }\n    }\n  ]\n}"
            }
          },
          "metadata": {},
          "execution_count": 110
        }
      ]
    },
    {
      "cell_type": "code",
      "source": [
        "df.isnull().sum()"
      ],
      "metadata": {
        "colab": {
          "base_uri": "https://localhost:8080/",
          "height": 147
        },
        "id": "EsMdrVdywpig",
        "outputId": "41b54da2-5dc4-4f91-8421-d6106e0aa1a9"
      },
      "execution_count": 111,
      "outputs": [
        {
          "output_type": "execute_result",
          "data": {
            "text/plain": [
              "Category    0\n",
              "Resume      0\n",
              "dtype: int64"
            ],
            "text/html": [
              "<div>\n",
              "<style scoped>\n",
              "    .dataframe tbody tr th:only-of-type {\n",
              "        vertical-align: middle;\n",
              "    }\n",
              "\n",
              "    .dataframe tbody tr th {\n",
              "        vertical-align: top;\n",
              "    }\n",
              "\n",
              "    .dataframe thead th {\n",
              "        text-align: right;\n",
              "    }\n",
              "</style>\n",
              "<table border=\"1\" class=\"dataframe\">\n",
              "  <thead>\n",
              "    <tr style=\"text-align: right;\">\n",
              "      <th></th>\n",
              "      <th>0</th>\n",
              "    </tr>\n",
              "  </thead>\n",
              "  <tbody>\n",
              "    <tr>\n",
              "      <th>Category</th>\n",
              "      <td>0</td>\n",
              "    </tr>\n",
              "    <tr>\n",
              "      <th>Resume</th>\n",
              "      <td>0</td>\n",
              "    </tr>\n",
              "  </tbody>\n",
              "</table>\n",
              "</div><br><label><b>dtype:</b> int64</label>"
            ]
          },
          "metadata": {},
          "execution_count": 111
        }
      ]
    },
    {
      "cell_type": "code",
      "source": [
        "df.duplicated().sum()"
      ],
      "metadata": {
        "colab": {
          "base_uri": "https://localhost:8080/"
        },
        "id": "8KnDbiMawwob",
        "outputId": "85ebf360-d91c-4ec9-81f2-4d354ee42bfb"
      },
      "execution_count": 112,
      "outputs": [
        {
          "output_type": "execute_result",
          "data": {
            "text/plain": [
              "796"
            ]
          },
          "metadata": {},
          "execution_count": 112
        }
      ]
    },
    {
      "cell_type": "code",
      "source": [
        "df.info()"
      ],
      "metadata": {
        "colab": {
          "base_uri": "https://localhost:8080/"
        },
        "id": "VeaZAeeww1LS",
        "outputId": "b40dd3b8-cc69-4e6a-865f-2bf948c7e433"
      },
      "execution_count": 113,
      "outputs": [
        {
          "output_type": "stream",
          "name": "stdout",
          "text": [
            "<class 'pandas.core.frame.DataFrame'>\n",
            "RangeIndex: 962 entries, 0 to 961\n",
            "Data columns (total 2 columns):\n",
            " #   Column    Non-Null Count  Dtype \n",
            "---  ------    --------------  ----- \n",
            " 0   Category  962 non-null    object\n",
            " 1   Resume    962 non-null    object\n",
            "dtypes: object(2)\n",
            "memory usage: 15.2+ KB\n"
          ]
        }
      ]
    },
    {
      "cell_type": "code",
      "source": [
        "df['Category'].value_counts()"
      ],
      "metadata": {
        "colab": {
          "base_uri": "https://localhost:8080/",
          "height": 899
        },
        "id": "k8KnqP0uxCbA",
        "outputId": "4696340f-4ee9-4854-d00f-fa98f408bcc3"
      },
      "execution_count": 114,
      "outputs": [
        {
          "output_type": "execute_result",
          "data": {
            "text/plain": [
              "Category\n",
              "Java Developer               84\n",
              "Testing                      70\n",
              "DevOps Engineer              55\n",
              "Python Developer             48\n",
              "Web Designing                45\n",
              "HR                           44\n",
              "Hadoop                       42\n",
              "Blockchain                   40\n",
              "ETL Developer                40\n",
              "Operations Manager           40\n",
              "Data Science                 40\n",
              "Sales                        40\n",
              "Mechanical Engineer          40\n",
              "Arts                         36\n",
              "Database                     33\n",
              "Electrical Engineering       30\n",
              "Health and fitness           30\n",
              "PMO                          30\n",
              "Business Analyst             28\n",
              "DotNet Developer             28\n",
              "Automation Testing           26\n",
              "Network Security Engineer    25\n",
              "SAP Developer                24\n",
              "Civil Engineer               24\n",
              "Advocate                     20\n",
              "Name: count, dtype: int64"
            ],
            "text/html": [
              "<div>\n",
              "<style scoped>\n",
              "    .dataframe tbody tr th:only-of-type {\n",
              "        vertical-align: middle;\n",
              "    }\n",
              "\n",
              "    .dataframe tbody tr th {\n",
              "        vertical-align: top;\n",
              "    }\n",
              "\n",
              "    .dataframe thead th {\n",
              "        text-align: right;\n",
              "    }\n",
              "</style>\n",
              "<table border=\"1\" class=\"dataframe\">\n",
              "  <thead>\n",
              "    <tr style=\"text-align: right;\">\n",
              "      <th></th>\n",
              "      <th>count</th>\n",
              "    </tr>\n",
              "    <tr>\n",
              "      <th>Category</th>\n",
              "      <th></th>\n",
              "    </tr>\n",
              "  </thead>\n",
              "  <tbody>\n",
              "    <tr>\n",
              "      <th>Java Developer</th>\n",
              "      <td>84</td>\n",
              "    </tr>\n",
              "    <tr>\n",
              "      <th>Testing</th>\n",
              "      <td>70</td>\n",
              "    </tr>\n",
              "    <tr>\n",
              "      <th>DevOps Engineer</th>\n",
              "      <td>55</td>\n",
              "    </tr>\n",
              "    <tr>\n",
              "      <th>Python Developer</th>\n",
              "      <td>48</td>\n",
              "    </tr>\n",
              "    <tr>\n",
              "      <th>Web Designing</th>\n",
              "      <td>45</td>\n",
              "    </tr>\n",
              "    <tr>\n",
              "      <th>HR</th>\n",
              "      <td>44</td>\n",
              "    </tr>\n",
              "    <tr>\n",
              "      <th>Hadoop</th>\n",
              "      <td>42</td>\n",
              "    </tr>\n",
              "    <tr>\n",
              "      <th>Blockchain</th>\n",
              "      <td>40</td>\n",
              "    </tr>\n",
              "    <tr>\n",
              "      <th>ETL Developer</th>\n",
              "      <td>40</td>\n",
              "    </tr>\n",
              "    <tr>\n",
              "      <th>Operations Manager</th>\n",
              "      <td>40</td>\n",
              "    </tr>\n",
              "    <tr>\n",
              "      <th>Data Science</th>\n",
              "      <td>40</td>\n",
              "    </tr>\n",
              "    <tr>\n",
              "      <th>Sales</th>\n",
              "      <td>40</td>\n",
              "    </tr>\n",
              "    <tr>\n",
              "      <th>Mechanical Engineer</th>\n",
              "      <td>40</td>\n",
              "    </tr>\n",
              "    <tr>\n",
              "      <th>Arts</th>\n",
              "      <td>36</td>\n",
              "    </tr>\n",
              "    <tr>\n",
              "      <th>Database</th>\n",
              "      <td>33</td>\n",
              "    </tr>\n",
              "    <tr>\n",
              "      <th>Electrical Engineering</th>\n",
              "      <td>30</td>\n",
              "    </tr>\n",
              "    <tr>\n",
              "      <th>Health and fitness</th>\n",
              "      <td>30</td>\n",
              "    </tr>\n",
              "    <tr>\n",
              "      <th>PMO</th>\n",
              "      <td>30</td>\n",
              "    </tr>\n",
              "    <tr>\n",
              "      <th>Business Analyst</th>\n",
              "      <td>28</td>\n",
              "    </tr>\n",
              "    <tr>\n",
              "      <th>DotNet Developer</th>\n",
              "      <td>28</td>\n",
              "    </tr>\n",
              "    <tr>\n",
              "      <th>Automation Testing</th>\n",
              "      <td>26</td>\n",
              "    </tr>\n",
              "    <tr>\n",
              "      <th>Network Security Engineer</th>\n",
              "      <td>25</td>\n",
              "    </tr>\n",
              "    <tr>\n",
              "      <th>SAP Developer</th>\n",
              "      <td>24</td>\n",
              "    </tr>\n",
              "    <tr>\n",
              "      <th>Civil Engineer</th>\n",
              "      <td>24</td>\n",
              "    </tr>\n",
              "    <tr>\n",
              "      <th>Advocate</th>\n",
              "      <td>20</td>\n",
              "    </tr>\n",
              "  </tbody>\n",
              "</table>\n",
              "</div><br><label><b>dtype:</b> int64</label>"
            ]
          },
          "metadata": {},
          "execution_count": 114
        }
      ]
    },
    {
      "cell_type": "code",
      "source": [
        "copy_value= df['Category'].unique().copy()"
      ],
      "metadata": {
        "id": "W8G4yGz8xFFk"
      },
      "execution_count": 115,
      "outputs": []
    },
    {
      "cell_type": "code",
      "source": [
        "copy_value"
      ],
      "metadata": {
        "colab": {
          "base_uri": "https://localhost:8080/"
        },
        "id": "qsFwWu9sxajt",
        "outputId": "50733169-2ebc-46dd-cb54-79ea2b01b4c8"
      },
      "execution_count": 116,
      "outputs": [
        {
          "output_type": "execute_result",
          "data": {
            "text/plain": [
              "array(['Data Science', 'HR', 'Advocate', 'Arts', 'Web Designing',\n",
              "       'Mechanical Engineer', 'Sales', 'Health and fitness',\n",
              "       'Civil Engineer', 'Java Developer', 'Business Analyst',\n",
              "       'SAP Developer', 'Automation Testing', 'Electrical Engineering',\n",
              "       'Operations Manager', 'Python Developer', 'DevOps Engineer',\n",
              "       'Network Security Engineer', 'PMO', 'Database', 'Hadoop',\n",
              "       'ETL Developer', 'DotNet Developer', 'Blockchain', 'Testing'],\n",
              "      dtype=object)"
            ]
          },
          "metadata": {},
          "execution_count": 116
        }
      ]
    },
    {
      "cell_type": "code",
      "source": [
        "plt.figure(figsize=(16, 10))\n",
        "sns.countplot(df['Category'],color='blue' )\n",
        "plt.xticks(rotation=45)\n",
        "plt.show()"
      ],
      "metadata": {
        "colab": {
          "base_uri": "https://localhost:8080/",
          "height": 651
        },
        "id": "bLAAjTWCxcxE",
        "outputId": "c427664e-7eb2-43ea-ff18-e655fc6dfbea"
      },
      "execution_count": 117,
      "outputs": [
        {
          "output_type": "display_data",
          "data": {
            "text/plain": [
              "<Figure size 1600x1000 with 1 Axes>"
            ],
            "image/png": "[encoded data removed]"
          },
          "metadata": {}
        }
      ]
    },
    {
      "cell_type": "code",
      "source": [
        "import re\n",
        "\n",
        "def clean_text(text):\n",
        "    text = re.sub('http\\S+\\s*', ' ', text)  # remove URLs\n",
        "    text = re.sub('RT|cc', ' ', text)  # remove RT and cc\n",
        "    text = re.sub('#\\S+', '', text)  # remove hashtags\n",
        "    text = re.sub('@\\S+', '  ', text)  # remove mentions\n",
        "    text = re.sub('[%s]' % re.escape(\"\"\"!\"#$%&'()*+,-./:;<=>?@[\\]^_`{|}~\"\"\"), ' ', text)  # remove punctuations\n",
        "    text = re.sub(r'[^\\x00-\\x7f]',r' ', text)\n",
        "    text = re.sub('\\s+', ' ', text)  # remove extra whitespace\n",
        "    return text\n",
        "\n",
        "df['Resume'] = df['Resume'].apply(clean_text)\n",
        "\n",
        "\n"
      ],
      "metadata": {
        "id": "45ZQZ2Cuzmka"
      },
      "execution_count": 118,
      "outputs": []
    },
    {
      "cell_type": "code",
      "source": [
        "df['Resume'][3]"
      ],
      "metadata": {
        "colab": {
          "base_uri": "https://localhost:8080/",
          "height": 140
        },
        "id": "3X4UuIwy2Xva",
        "outputId": "6101625d-d694-4464-b8a7-ab0dc19529bb"
      },
      "execution_count": 119,
      "outputs": [
        {
          "output_type": "execute_result",
          "data": {
            "text/plain": [
              "'Skills R Python SAP HANA Tableau SAP HANA SQL SAP HANA PAL MS SQL SAP Lumira C Linear Programming Data Modelling Advance Analytics SCM Analytics Retail Analytics Social Media Analytics NLP Education Details January 2017 to January 2018 PGDM Business Analytics Great Lakes Institute of Management Illinois Institute of Technology January 2013 Bachelor of Engineering Electronics and Communication Bengaluru Karnataka New Horizon College of Engineering Bangalore Visvesvaraya Technological University Data Science Consultant Consultant Deloitte USI Skill Details LINEAR PROGRAMMING Exprience 6 months RETAIL Exprience 6 months RETAIL MARKETING Exprience 6 months SCM Exprience 6 months SQL Exprience Less than 1 year months Deep Learning Exprience Less than 1 year months Machine learning Exprience Less than 1 year months Python Exprience Less than 1 year months R Exprience Less than 1 year monthsCompany Details company Deloitte USI description The project involved analysing historic deals and coming with insights to optimize future deals Role Was given raw data carried out end to end analysis and presented insights to client Key Responsibilities Extract data from client systems across geographies Understand and build reports in tableau Infer meaningful insights to optimize prices and find out process blockades Technical Environment R Tableau Industry Cross Industry Service Area Cross Industry Products Project Name Handwriting recognition Consultant 3 months The project involved taking handwritten images and converting them to digital text images by object detection and sentence creation Role I was developing sentence correction functionality Key Responsibilities Gather data large enough to capture all English words Train LSTM models on words Technical Environment Python Industry Finance Service Area Financial Services BI development Project Name SWIFT Consultant 8 months The project was to develop an analytics infrastructure on top of SAP S 4 it would user to view financial reports to respective departments Reporting also included forecasting expenses Role I was leading the offshore team Key Responsibilities Design Develop data models for reporting Develop ETL for data flow Validate various reports Technical Environment SAP HANA Tableau SAP AO Industry Healthcare Analytics Service Area Life Sciences Product development Project Name Clinical Healthcare System Consultant 2 months The project was to develop an analytics infrastructure on top of Argus it would allow users to query faster and provide advance analytics capabilities Role I was involved from design to deploy phase performed a lot of data restructuring and built models for insights Key Responsibilities Design Develop data models for reporting Develop and deploy analytical models Validate various reports Technical Environment Data Modelling SAP HANA Tableau NLP Industry FMCG Service Area Trade Promotion Project Name Consumption Based Planning for Flowers Foods Consultant 8 months The project involved setting up of CRM and CBP modules Role I was involved in key data decomposition activities and setting up the base for future year forecast Over the course of the project I developed various models and carried out key performance improvements Key Responsibilities Design Develop HANA models for decomposition Develop data flow for forecast Developed various views for reporting of Customer Sales Funds Validate various reports in BOBJ Technical Environment Data Modelling SAP HANA BOBJ Time Series Forecasting Internal Initiative Industry FMCG Customer Segmentation and RFM analysis Consultant 3 months The initiative involved setting up of HANA Python interface and advance analytics on Python Over the course I had su essfully segmented data into five core segments using K means and carried out RFM analysis in Python Also developed algorithm to categorize any new customer under the defined buckets Technical Environment Anaconda3 Python3 6 HANA SPS12 Industry Telecom Invoice state detection Consultant 1 months The initiative was to reduce the manual effort in verifying closed and open invoices manually it involved development to a decision tree to classify open closed invoices This enabled effort reduction by 60 Technical Environment R SAP PAL SAP HANA SPS12 A enture Experience Industry Analytics Cross Industry In Process Analytics for SAP Senior Developer 19 months A enture Solutions Pvt Ltd India The project involved development of SAP analytics tool In Process Analytics IPA My role was to develop database objects and data models to provide operational insights to clients Role I have developed various Finance related KPIs and spearheaded various deployments Introduced SAP Predictive analytics to reduce development time and reuse functionalities for KPIs and prepared production planning reports Key Responsibilities Involved in information gather phase Designed and implemented SAP HANA data modelling using Attribute View Analytic View and Calculation View Developed various KPI s individually using complex SQL scripts in Calculation views Created procedures in HANA Database Took ownership and developed Dashboard functionality Involved in building data processing algorithms to be executed in R server for cluster analysis Technical Environment R SAP HANA T SQL Industry Cross Industry A enture Testing A elerator for SAP Database Developer 21 months A enture Solutions Pvt Ltd India Role I have taken care of all development activities for the ATAS tool and have also completed various deployments of the product Apart from these activities I was also actively involved in maintenance of the database servers Production Quality Key Responsibilities Analyzing business requirements understanding the scope getting requirements clarified interacting with business and further transform all requirements to generate attribute mapping documents and reviewing mapping specification documentation Create Update database objects like tables views stored procedures function and packages Monitored SQL Server Error Logs and Application Logs through SQL Server Agent Prepared Data Flow Diagrams Entity Relationship Diagrams using UML Responsible for Designing developing and Normalization of database tables Experience in performance tuning using SQL profiler Involved in QA UAT knowledge transfer and support activities Technical Environment SQL Server 2008 2014 Visual Studio 2010 Windows Server Performance Monitor SQL Server Profiler C PL SQL T SQL '"
            ],
            "application/vnd.google.colaboratory.intrinsic+json": {
              "type": "string"
            }
          },
          "metadata": {},
          "execution_count": 119
        }
      ]
    },
    {
      "cell_type": "code",
      "source": [
        "from sklearn.preprocessing import LabelEncoder\n",
        "le = LabelEncoder()\n",
        "df['Category'] = le.fit_transform(df['Category'])\n"
      ],
      "metadata": {
        "id": "njzbJbmZ3Ck-"
      },
      "execution_count": 135,
      "outputs": []
    },
    {
      "cell_type": "code",
      "source": [
        "job_number= df['Category'].unique().copy()"
      ],
      "metadata": {
        "id": "KszIJtgZ2xUf"
      },
      "execution_count": 136,
      "outputs": []
    },
    {
      "cell_type": "code",
      "source": [
        "# prompt: use Tfidf vectorizer Rusume columns\n",
        "\n",
        "from sklearn.feature_extraction.text import TfidfVectorizer\n",
        "\n",
        "tfidf = TfidfVectorizer(stop_words='english')\n",
        "tfidf_vec_data = tfidf.fit_transform(df['Resume'])\n",
        "tfidf_vec_data.shape\n"
      ],
      "metadata": {
        "colab": {
          "base_uri": "https://localhost:8080/"
        },
        "id": "9KgcDJm335KF",
        "outputId": "02c4e203-68db-4c57-8852-ab4d90364114"
      },
      "execution_count": 122,
      "outputs": [
        {
          "output_type": "execute_result",
          "data": {
            "text/plain": [
              "(962, 7351)"
            ]
          },
          "metadata": {},
          "execution_count": 122
        }
      ]
    },
    {
      "cell_type": "code",
      "source": [
        "tfidf_vec_data.toarray()"
      ],
      "metadata": {
        "colab": {
          "base_uri": "https://localhost:8080/"
        },
        "id": "AErCibCT4Mfy",
        "outputId": "4620ea5e-8817-4d71-872c-24640ccf7109"
      },
      "execution_count": 123,
      "outputs": [
        {
          "output_type": "execute_result",
          "data": {
            "text/plain": [
              "array([[0., 0., 0., ..., 0., 0., 0.],\n",
              "       [0., 0., 0., ..., 0., 0., 0.],\n",
              "       [0., 0., 0., ..., 0., 0., 0.],\n",
              "       ...,\n",
              "       [0., 0., 0., ..., 0., 0., 0.],\n",
              "       [0., 0., 0., ..., 0., 0., 0.],\n",
              "       [0., 0., 0., ..., 0., 0., 0.]])"
            ]
          },
          "metadata": {},
          "execution_count": 123
        }
      ]
    },
    {
      "cell_type": "code",
      "source": [
        "from sklearn.model_selection import train_test_split\n",
        "\n",
        "x_train, x_test, y_train, y_test = train_test_split(tfidf_vec_data, df['Category'], test_size=0.2, random_state=42)\n",
        "x_train.shape, x_test.shape, y_train.shape, y_test.shape"
      ],
      "metadata": {
        "colab": {
          "base_uri": "https://localhost:8080/"
        },
        "id": "-eHNlfyY4Qe0",
        "outputId": "3eae7300-a08b-4840-d01c-6872cab664c9"
      },
      "execution_count": 137,
      "outputs": [
        {
          "output_type": "execute_result",
          "data": {
            "text/plain": [
              "((769, 7351), (193, 7351), (769,), (193,))"
            ]
          },
          "metadata": {},
          "execution_count": 137
        }
      ]
    },
    {
      "cell_type": "code",
      "source": [
        "# prompt: model train multiple algoritms chack best accuracy\n",
        "\n",
        "from sklearn.linear_model import LogisticRegression\n",
        "from sklearn.svm import SVC\n",
        "from sklearn.naive_bayes import MultinomialNB\n",
        "from sklearn.tree import DecisionTreeClassifier\n",
        "from sklearn.ensemble import RandomForestClassifier\n",
        "from sklearn.metrics import accuracy_score\n",
        "\n",
        "# Initialize models\n",
        "models = {\n",
        "    \"Logistic Regression\": LogisticRegression(),\n",
        "    \"SVM\": SVC(),\n",
        "    \"Naive Bayes\": MultinomialNB(),\n",
        "    \"Decision Tree\": DecisionTreeClassifier(),\n",
        "    \"Random Forest\": RandomForestClassifier()\n",
        "}\n",
        "\n",
        "results = {}\n",
        "\n",
        "# Train and evaluate each model\n",
        "for model_name, model in models.items():\n",
        "    model.fit(x_train, y_train)  # Train the model\n",
        "    y_pred = model.predict(x_test)  # Make predictions\n",
        "    accuracy = accuracy_score(y_test, y_pred) # Calculate accuracy\n",
        "    results[model_name] = accuracy\n",
        "\n",
        "# Print results\n",
        "for model_name, accuracy in results.items():\n",
        "    print(f\"{model_name}: {accuracy}\")\n",
        "\n",
        "# Find the best model\n",
        "best_model = max(results, key=results.get)\n",
        "print(f\"\\nBest Model: {best_model} with accuracy {results[best_model]}\")\n"
      ],
      "metadata": {
        "colab": {
          "base_uri": "https://localhost:8080/"
        },
        "id": "LG8Q_HT94bQ-",
        "outputId": "65f74728-e7f2-4cd0-fe61-76efb0230642"
      },
      "execution_count": 138,
      "outputs": [
        {
          "output_type": "stream",
          "name": "stdout",
          "text": [
            "Logistic Regression: 0.9948186528497409\n",
            "SVM: 0.9948186528497409\n",
            "Naive Bayes: 0.9637305699481865\n",
            "Decision Tree: 0.9948186528497409\n",
            "Random Forest: 0.9948186528497409\n",
            "\n",
            "Best Model: Logistic Regression with accuracy 0.9948186528497409\n"
          ]
        }
      ]
    },
    {
      "cell_type": "code",
      "source": [
        "# prompt: oita k pkl file dump koro  Logistic Regression k\n",
        "\n",
        "import pickle\n",
        "\n",
        "# Assuming 'model' is your trained Logistic Regression model\n",
        "# Replace 'LogisticRegression()' with your actual trained model\n",
        "model = LogisticRegression() # This is just a placeholder. Replace with your trained model.\n",
        "model.fit(x_train, y_train) # Train the model (if not already trained)\n",
        "\n",
        "# Save the model to a pickle file\n",
        "filename = 'finalized_model_v2.pkl'\n",
        "pickle.dump(model, open(filename, 'wb'))\n"
      ],
      "metadata": {
        "id": "73Bi0ZPX4pBp"
      },
      "execution_count": 139,
      "outputs": []
    },
    {
      "cell_type": "code",
      "source": [
        "# prompt: tfidf eta ki pkl file a dump koro\n",
        "\n",
        "import pickle\n",
        "\n",
        "# Assuming 'tfidf' is your TfidfVectorizer object\n",
        "# Replace 'tfidf' with your actual TfidfVectorizer object.\n",
        "\n",
        "# Save the tfidf object to a pickle file\n",
        "filename = 'tfidf.pkl'\n",
        "pickle.dump(tfidf, open(filename, 'wb'))\n"
      ],
      "metadata": {
        "id": "958YovS-4-vi"
      },
      "execution_count": 140,
      "outputs": []
    },
    {
      "cell_type": "code",
      "source": [
        "job_category = ['Data Science', 'HR', 'Advocate', 'Arts', 'Web Designing',\n",
        "       'Mechanical Engineer', 'Sales', 'Health and fitness',\n",
        "       'Civil Engineer', 'Java Developer', 'Business Analyst',\n",
        "       'SAP Developer', 'Automation Testing', 'Electrical Engineering',\n",
        "       'Operations Manager', 'Python Developer', 'DevOps Engineer',\n",
        "       'Network Security Engineer', 'PMO', 'Database', 'Hadoop',\n",
        "       'ETL Developer', 'DotNet Developer', 'Blockchain', 'Testing']\n"
      ],
      "metadata": {
        "id": "aStnF8N55PUr"
      },
      "execution_count": 141,
      "outputs": []
    },
    {
      "cell_type": "code",
      "source": [
        "job_category"
      ],
      "metadata": {
        "colab": {
          "base_uri": "https://localhost:8080/"
        },
        "id": "hzdghLbY5gST",
        "outputId": "b902dd92-2620-4c50-c6cf-11d6496245be"
      },
      "execution_count": 142,
      "outputs": [
        {
          "output_type": "execute_result",
          "data": {
            "text/plain": [
              "['Data Science',\n",
              " 'HR',\n",
              " 'Advocate',\n",
              " 'Arts',\n",
              " 'Web Designing',\n",
              " 'Mechanical Engineer',\n",
              " 'Sales',\n",
              " 'Health and fitness',\n",
              " 'Civil Engineer',\n",
              " 'Java Developer',\n",
              " 'Business Analyst',\n",
              " 'SAP Developer',\n",
              " 'Automation Testing',\n",
              " 'Electrical Engineering',\n",
              " 'Operations Manager',\n",
              " 'Python Developer',\n",
              " 'DevOps Engineer',\n",
              " 'Network Security Engineer',\n",
              " 'PMO',\n",
              " 'Database',\n",
              " 'Hadoop',\n",
              " 'ETL Developer',\n",
              " 'DotNet Developer',\n",
              " 'Blockchain',\n",
              " 'Testing']"
            ]
          },
          "metadata": {},
          "execution_count": 142
        }
      ]
    },
    {
      "cell_type": "code",
      "source": [],
      "metadata": {
        "id": "4QgydDMy5iJn"
      },
      "execution_count": 142,
      "outputs": []
    },
    {
      "cell_type": "code",
      "source": [
        "combined = dict(zip(job_category, job_number))"
      ],
      "metadata": {
        "colab": {
          "base_uri": "https://localhost:8080/"
        },
        "id": "iF6RkBEu5k7-",
        "outputId": "00226365-06e3-4e2f-cf45-80c227395463"
      },
      "execution_count": 143,
      "outputs": [
        {
          "output_type": "execute_result",
          "data": {
            "text/plain": [
              "{'Data Science': 6,\n",
              " 'HR': 12,\n",
              " 'Advocate': 0,\n",
              " 'Arts': 1,\n",
              " 'Web Designing': 24,\n",
              " 'Mechanical Engineer': 16,\n",
              " 'Sales': 22,\n",
              " 'Health and fitness': 14,\n",
              " 'Civil Engineer': 5,\n",
              " 'Java Developer': 15,\n",
              " 'Business Analyst': 4,\n",
              " 'SAP Developer': 21,\n",
              " 'Automation Testing': 2,\n",
              " 'Electrical Engineering': 11,\n",
              " 'Operations Manager': 18,\n",
              " 'Python Developer': 20,\n",
              " 'DevOps Engineer': 8,\n",
              " 'Network Security Engineer': 17,\n",
              " 'PMO': 19,\n",
              " 'Database': 7,\n",
              " 'Hadoop': 13,\n",
              " 'ETL Developer': 10,\n",
              " 'DotNet Developer': 9,\n",
              " 'Blockchain': 3,\n",
              " 'Testing': 23}"
            ]
          },
          "metadata": {},
          "execution_count": 143
        }
      ]
    },
    {
      "cell_type": "code",
      "source": [
        "filename = 'jobs_category'\n",
        "pickle.dump(combined, open(filename, 'wb'))"
      ],
      "metadata": {
        "id": "6LXfAUAICUzC"
      },
      "execution_count": 145,
      "outputs": []
    },
    {
      "cell_type": "code",
      "source": [
        "# prompt: load pkl file\n",
        "\n",
        "import pickle\n",
        "loaded_model = pickle.load(open('finalized_model_v2.pkl', 'rb'))\n",
        "loaded_tfidf = pickle.load(open('tfidf.pkl', 'rb'))\n",
        "loaded_jobs = pickle.load(open('jobs_category', 'rb'))"
      ],
      "metadata": {
        "id": "6RIq1JUwAGW9"
      },
      "execution_count": 146,
      "outputs": []
    },
    {
      "cell_type": "code",
      "source": [
        "# prompt: pridect model\n",
        "\n",
        "import pickle\n",
        "\n",
        "# Load the saved model, tfidf vectorizer, and job categories\n",
        "loaded_model = pickle.load(open('finalized_model_v2.pkl', 'rb'))\n",
        "loaded_tfidf = pickle.load(open('tfidf.pkl', 'rb'))\n",
        "loaded_jobs = pickle.load(open('jobs_category', 'rb'))\n",
        "\n",
        "\n",
        "def predict_resume_category(resume_text):\n",
        "    \"\"\"Predicts the category of a given resume text.\n",
        "\n",
        "    Args:\n",
        "        resume_text: The text of the resume.\n",
        "\n",
        "    Returns:\n",
        "        The predicted job category.\n",
        "    \"\"\"\n",
        "    # Clean the input resume text\n",
        "    import re\n",
        "    def clean_text(text):\n",
        "        text = re.sub('http\\S+\\s*', ' ', text)  # remove URLs\n",
        "        text = re.sub('RT|cc', ' ', text)  # remove RT and cc\n",
        "        text = re.sub('#\\S+', '', text)  # remove hashtags\n",
        "        text = re.sub('@\\S+', '  ', text)  # remove mentions\n",
        "        text = re.sub('[%s]' % re.escape(\"\"\"!\"#$%&'()*+,-./:;<=>?@[\\]^_`{|}~\"\"\"), ' ', text)  # remove punctuations\n",
        "        text = re.sub(r'[^\\x00-\\x7f]',r' ', text)\n",
        "        text = re.sub('\\s+', ' ', text)  # remove extra whitespace\n",
        "        return text\n",
        "    cleaned_resume = clean_text(resume_text)\n",
        "\n",
        "    # Transform the cleaned text using the loaded TF-IDF vectorizer\n",
        "    tfidf_vec_data = loaded_tfidf.transform([cleaned_resume])\n",
        "\n",
        "    # Make a prediction using the loaded model\n",
        "    prediction = loaded_model.predict(tfidf_vec_data)[0]\n",
        "\n",
        "    # Get the job category corresponding to the predicted number\n",
        "    reverse_job_dict = {v:k for k,v in loaded_jobs.items()}\n",
        "    predicted_category = reverse_job_dict.get(prediction)\n",
        "\n",
        "    return predicted_category\n",
        "\n",
        "\n",
        "resume_text =\"\"\" \"\"\"\n",
        "\n",
        "\n",
        "\n",
        "predicted_job_category = predict_resume_category(resume_text)\n",
        "print(f\"Predicted Job Category: {predicted_job_category}\")\n"
      ],
      "metadata": {
        "colab": {
          "base_uri": "https://localhost:8080/"
        },
        "id": "R0RQvJdvC_mB",
        "outputId": "68acde73-7b94-41a2-9c42-21d68032525a"
      },
      "execution_count": 149,
      "outputs": [
        {
          "output_type": "stream",
          "name": "stdout",
          "text": [
            "Predicted Job Category: Sales\n"
          ]
        }
      ]
    },
    {
      "cell_type": "code",
      "source": [],
      "metadata": {
        "id": "27BYHuJEDNit"
      },
      "execution_count": null,
      "outputs": []
    }
  ]
}